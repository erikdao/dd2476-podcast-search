{
 "cells": [
  {
   "cell_type": "markdown",
   "id": "leading-musician",
   "metadata": {},
   "source": [
    "# Dataset Analysis for the Report"
   ]
  },
  {
   "cell_type": "code",
   "execution_count": 1,
   "id": "located-feeding",
   "metadata": {},
   "outputs": [],
   "source": [
    "import os\n",
    "import json\n",
    "import typing\n",
    "from tqdm import tqdm"
   ]
  },
  {
   "cell_type": "markdown",
   "id": "greater-filling",
   "metadata": {},
   "source": [
    "Data path"
   ]
  },
  {
   "cell_type": "code",
   "execution_count": 2,
   "id": "structured-procurement",
   "metadata": {},
   "outputs": [
    {
     "data": {
      "text/plain": [
       "'/home/erik/Projects/KTH/dd2476-podcast-search/data/podcasts-transcript/spotify-podcasts-2020/json_file_list.txt'"
      ]
     },
     "execution_count": 2,
     "metadata": {},
     "output_type": "execute_result"
    }
   ],
   "source": [
    "PROJECT_DIR = os.path.dirname(os.path.dirname(os.getcwd()))\n",
    "DATA_DIR = os.path.join(PROJECT_DIR, 'data', 'podcasts-transcript', 'spotify-podcasts-2020')\n",
    "\n",
    "# A text file containing the list of all files\n",
    "JSON_FILE_LIST = os.path.join(DATA_DIR, \"json_file_list.txt\")\n",
    "JSON_FILE_LIST"
   ]
  },
  {
   "cell_type": "code",
   "execution_count": 3,
   "id": "terminal-opportunity",
   "metadata": {},
   "outputs": [],
   "source": [
    "def load_episode_token_list(fpath: str) -> typing.Any:\n",
    "    with open(fpath, 'r') as f:\n",
    "        data = json.load(f)\n",
    "    \n",
    "    last_result = data['results'][-1]\n",
    "    alternative = last_result['alternatives'][0]\n",
    "    if (len(alternative.keys()) != 1):\n",
    "        print(\"Potentially wrong data: \", fpath)\n",
    "        return []\n",
    "    \n",
    "    return alternative['words']"
   ]
  },
  {
   "cell_type": "markdown",
   "id": "synthetic-lexington",
   "metadata": {},
   "source": [
    "Read the list of json files"
   ]
  },
  {
   "cell_type": "code",
   "execution_count": 4,
   "id": "unnecessary-tooth",
   "metadata": {},
   "outputs": [],
   "source": [
    "json_files = []\n",
    "with open(JSON_FILE_LIST, \"r\") as f:\n",
    "    for line in f:\n",
    "        json_files.append(line.strip())"
   ]
  },
  {
   "cell_type": "markdown",
   "id": "desperate-challenge",
   "metadata": {},
   "source": [
    "## 1. How many words are there in each json file?\n",
    "\n",
    "Use multiprocessing to answer this question"
   ]
  },
  {
   "cell_type": "code",
   "execution_count": 5,
   "id": "physical-found",
   "metadata": {},
   "outputs": [
    {
     "data": {
      "text/plain": [
       "16"
      ]
     },
     "execution_count": 5,
     "metadata": {},
     "output_type": "execute_result"
    }
   ],
   "source": [
    "import multiprocessing as mp\n",
    "mp.cpu_count()"
   ]
  },
  {
   "cell_type": "markdown",
   "id": "alternative-electronics",
   "metadata": {},
   "source": [
    "Helper function, partition a list to evenly-sized chunk (if possible)"
   ]
  },
  {
   "cell_type": "code",
   "execution_count": 6,
   "id": "reserved-fellowship",
   "metadata": {},
   "outputs": [
    {
     "data": {
      "text/plain": [
       "6585"
      ]
     },
     "execution_count": 6,
     "metadata": {},
     "output_type": "execute_result"
    }
   ],
   "source": [
    "def partition(lst, n):\n",
    "    for i in range(0, len(lst), n):\n",
    "        yield lst[i:i+n]\n",
    "\n",
    "chunk_size = len(json_files) // mp.cpu_count()\n",
    "chunk_size"
   ]
  },
  {
   "cell_type": "code",
   "execution_count": 7,
   "id": "adapted-ethics",
   "metadata": {},
   "outputs": [],
   "source": [
    "def process_partition(partition, index):\n",
    "    print(f\"Processing partition: {index}, length = {len(partition)}\")\n",
    "    \n",
    "    episode_words_map = dict()\n",
    "\n",
    "    for idx, json_f in enumerate(partition):\n",
    "        fpath = os.path.join(DATA_DIR, 'podcasts-transcripts', json_f)\n",
    "        arr = load_episode_token_list(fpath)\n",
    "        episode_id = json_f.split(\"/\")[-1].replace(\".json\", \"\")\n",
    "        \n",
    "        word_count = len(arr)\n",
    "        start_time = float(arr[0]['startTime'].replace('s', ''))\n",
    "        end_time = float(arr[-1]['endTime'].replace('s', ''))\n",
    "\n",
    "        episode_words_map[episode_id] = (word_count, start_time, end_time)\n",
    "        if idx % 1000 == 0 or idx == len(partition) - 1:\n",
    "            print(f\"Process {index}, done {idx} items\")\n",
    "    \n",
    "    with open(f\"episode_words_map_{index}.csv\", \"w\") as f:\n",
    "        f.write(\"episode_id,word_count,start_time,end_time\\n\")\n",
    "        \n",
    "        for key, value in episode_words_map.items():\n",
    "            f.write(f\"{key},{value[0]},{value[1]},{value[2]}\\n\")\n",
    "    \n",
    "    print(f\"Process {index} done!\")"
   ]
  },
  {
   "cell_type": "code",
   "execution_count": 8,
   "id": "persistent-extension",
   "metadata": {
    "collapsed": true,
    "jupyter": {
     "outputs_hidden": true
    },
    "tags": []
   },
   "outputs": [
    {
     "name": "stdout",
     "output_type": "stream",
     "text": [
      "Processing partition: 0, length = 6585\n",
      "Processing partition: 1, length = 6585\n",
      "Processing partition: 4, length = 6585\n",
      "Processing partition: 5, length = 6585\n",
      "Processing partition: 6, length = 6585\n",
      "Processing partition: 7, length = 6585\n",
      "Process 0, done 0 itemsProcessing partition: 8, length = 6585\n",
      "Process 4, done 0 items\n",
      "\n",
      "Processing partition: 9, length = 6585\n",
      "Process 1, done 0 itemsProcessing partition: 10, length = 6585\n",
      "Process 7, done 0 items\n",
      "\n",
      "Processing partition: 11, length = 6585Processing partition: 12, length = 6585\n",
      "\n",
      "Processing partition: 13, length = 6585Process 9, done 0 items\n",
      "Processing partition: 14, length = 6585Process 5, done 0 items\n",
      "\n",
      "Processing partition: 15, length = 6585Process 8, done 0 items\n",
      "Process 12, done 0 items\n",
      "\n",
      "Process 6, done 0 items\n",
      "\n",
      "Process 13, done 0 items\n",
      "Process 11, done 0 items\n",
      "Process 10, done 0 items\n",
      "Processing partition: 2, length = 6585Processing partition: 3, length = 6585\n",
      "\n",
      "Process 2, done 0 items\n",
      "Process 15, done 0 items\n",
      "Process 14, done 0 itemsProcess 3, done 0 items\n",
      "\n",
      "Process 5, done 1000 items\n",
      "Process 0, done 1000 items\n",
      "Process 1, done 1000 items\n",
      "Process 8, done 1000 items\n",
      "Process 2, done 1000 items\n",
      "Process 4, done 1000 items\n",
      "Process 12, done 1000 items\n",
      "Process 9, done 1000 items\n",
      "Process 7, done 1000 items\n",
      "Process 15, done 1000 items\n",
      "Process 11, done 1000 items\n",
      "Process 13, done 1000 items\n",
      "Process 10, done 1000 items\n",
      "Process 14, done 1000 items\n",
      "Process 6, done 1000 items\n",
      "Process 3, done 1000 items\n",
      "Process 0, done 2000 items\n",
      "Process 1, done 2000 items\n",
      "Process 5, done 2000 items\n",
      "Process 11, done 2000 items\n",
      "Process 8, done 2000 items\n",
      "Process 12, done 2000 items\n",
      "Process 2, done 2000 items\n",
      "Process 4, done 2000 items\n",
      "Process 6, done 2000 items\n",
      "Process 9, done 2000 items\n",
      "Process 10, done 2000 items\n",
      "Process 15, done 2000 items\n",
      "Process 3, done 2000 items\n",
      "Process 13, done 2000 items\n",
      "Process 14, done 2000 items\n",
      "Process 7, done 2000 items\n",
      "Process 0, done 3000 items\n",
      "Process 1, done 3000 items\n",
      "Process 8, done 3000 items\n",
      "Process 4, done 3000 items\n",
      "Process 5, done 3000 items\n",
      "Process 2, done 3000 items\n",
      "Process 11, done 3000 items\n",
      "Process 12, done 3000 items\n",
      "Process 13, done 3000 items\n",
      "Process 9, done 3000 items\n",
      "Process 15, done 3000 items\n",
      "Process 6, done 3000 items\n",
      "Process 10, done 3000 items\n",
      "Process 14, done 3000 items\n",
      "Process 9, done 4000 items\n",
      "Process 7, done 3000 items\n",
      "Process 3, done 3000 items\n",
      "Process 5, done 4000 items\n",
      "Process 0, done 4000 items\n",
      "Process 2, done 4000 items\n",
      "Process 4, done 4000 items\n",
      "Process 8, done 4000 items\n",
      "Process 1, done 4000 items\n",
      "Process 12, done 4000 items\n",
      "Process 15, done 4000 items\n",
      "Process 13, done 4000 items\n",
      "Process 6, done 4000 items\n",
      "Process 5, done 5000 items\n",
      "Process 11, done 4000 items\n",
      "Process 10, done 4000 items\n",
      "Process 9, done 5000 items\n",
      "Process 7, done 4000 items\n",
      "Process 14, done 4000 items\n",
      "Process 3, done 4000 items\n",
      "Process 0, done 5000 items\n",
      "Process 2, done 5000 items\n",
      "Process 12, done 5000 items\n",
      "Process 4, done 5000 items\n",
      "Process 15, done 5000 items\n",
      "Process 8, done 5000 items\n",
      "Process 6, done 5000 items\n",
      "Process 1, done 5000 items\n",
      "Process 11, done 5000 items\n",
      "Process 5, done 6000 items\n",
      "Process 7, done 5000 items\n",
      "Process 13, done 5000 items\n",
      "Process 14, done 5000 items\n",
      "Process 9, done 6000 items\n",
      "Process 10, done 5000 items\n",
      "Process 2, done 6000 items\n",
      "Process 6, done 6000 items\n",
      "Process 3, done 5000 items\n",
      "Process 0, done 6000 items\n",
      "Process 5, done 6584 items\n",
      "Process 5 done!\n",
      "Process 4, done 6000 items\n",
      "Process 15, done 6000 items\n",
      "Process 12, done 6000 items\n",
      "Process 9, done 6584 items\n",
      "Process 9 done!\n",
      "Process 8, done 6000 items\n",
      "Process 13, done 6000 items\n",
      "Process 2, done 6584 items\n",
      "Process 2 done!\n",
      "Process 6, done 6584 items\n",
      "Process 6 done!\n",
      "Process 1, done 6000 items\n",
      "Process 7, done 6000 items\n",
      "Process 10, done 6000 items\n",
      "Process 4, done 6584 items\n",
      "Process 4 done!\n",
      "Process 14, done 6000 items\n",
      "Process 0, done 6584 items\n",
      "Process 0 done!\n",
      "Process 11, done 6000 items\n",
      "Process 15, done 6584 items\n",
      "Process 15 done!\n",
      "Process 12, done 6584 items\n",
      "Process 12 done!\n",
      "Process 13, done 6584 items\n",
      "Process 13 done!\n",
      "Process 8, done 6584 items\n",
      "Process 8 done!\n",
      "Process 7, done 6584 items\n",
      "Process 7 done!\n",
      "Process 1, done 6584 items\n",
      "Process 1 done!\n",
      "Process 3, done 6000 items\n",
      "Process 14, done 6584 items\n",
      "Process 14 done!\n",
      "Process 10, done 6584 items\n",
      "Process 10 done!\n",
      "Process 11, done 6584 items\n",
      "Process 11 done!\n",
      "Process 3, done 6584 items\n",
      "Process 3 done!\n"
     ]
    }
   ],
   "source": [
    "with mp.Pool(processes=mp.cpu_count()) as pool:\n",
    "    partitions = partition(json_files, chunk_size)\n",
    "    \n",
    "    pool.starmap(process_partition, [(part, index) for index, part in enumerate(partitions)])"
   ]
  },
  {
   "cell_type": "markdown",
   "id": "established-certification",
   "metadata": {},
   "source": [
    "**Read the CSV episode word map to Pandas DF for further manipulation**"
   ]
  },
  {
   "cell_type": "code",
   "execution_count": 9,
   "id": "recovered-slave",
   "metadata": {},
   "outputs": [],
   "source": [
    "import pandas as pd\n",
    "import matplotlib.pyplot as plt\n",
    "import seaborn as sns"
   ]
  },
  {
   "cell_type": "code",
   "execution_count": 10,
   "id": "descending-raleigh",
   "metadata": {},
   "outputs": [
    {
     "name": "stdout",
     "output_type": "stream",
     "text": [
      "<class 'pandas.core.frame.DataFrame'>\n",
      "Int64Index: 105360 entries, 0 to 6584\n",
      "Data columns (total 4 columns):\n",
      " #   Column      Non-Null Count   Dtype  \n",
      "---  ------      --------------   -----  \n",
      " 0   episode_id  105360 non-null  object \n",
      " 1   word_count  105360 non-null  int64  \n",
      " 2   start_time  105360 non-null  float64\n",
      " 3   end_time    105360 non-null  float64\n",
      "dtypes: float64(2), int64(1), object(1)\n",
      "memory usage: 4.0+ MB\n"
     ]
    }
   ],
   "source": [
    "frames = []\n",
    "\n",
    "for i in range(mp.cpu_count()):\n",
    "    frames.append(pd.read_csv(f\"./episode_words_map_{i}.csv\"))\n",
    "\n",
    "df = pd.concat(frames)\n",
    "df.info()"
   ]
  },
  {
   "cell_type": "markdown",
   "id": "exceptional-negotiation",
   "metadata": {},
   "source": [
    "**Plot history gram of word count for episodes**"
   ]
  },
  {
   "cell_type": "code",
   "execution_count": 44,
   "id": "blocked-conspiracy",
   "metadata": {},
   "outputs": [
    {
     "data": {
      "image/png": "[encoded data removed]",
      "text/plain": [
       "<Figure size 432x288 with 1 Axes>"
      ]
     },
     "metadata": {
      "needs_background": "light"
     },
     "output_type": "display_data"
    }
   ],
   "source": [
    "plot_df = df[['word_count']]\n",
    "\n",
    "fig, ax = plt.subplots(figsize=(6, 4))\n",
    "plot_df.plot.hist(bins=10, ax=ax)\n",
    "plt.xlabel(\"Word count\", fontsize=14)\n",
    "plt.ylabel(\"# episodes\", fontsize=14)\n",
    "\n",
    "plt.savefig(\"plots/episode_word_count_hist.png\", bbox_inches='tight')\n",
    "plt.savefig(\"plots/episode_word_count_hist.pdf\", bbox_inches='tight')"
   ]
  },
  {
   "cell_type": "markdown",
   "id": "chronic-matter",
   "metadata": {},
   "source": [
    "## 2. Episode count for each show"
   ]
  },
  {
   "cell_type": "code",
   "execution_count": 30,
   "id": "handmade-granny",
   "metadata": {},
   "outputs": [
    {
     "data": {
      "text/html": [
       "<div>\n",
       "<style scoped>\n",
       "    .dataframe tbody tr th:only-of-type {\n",
       "        vertical-align: middle;\n",
       "    }\n",
       "\n",
       "    .dataframe tbody tr th {\n",
       "        vertical-align: top;\n",
       "    }\n",
       "\n",
       "    .dataframe thead th {\n",
       "        text-align: right;\n",
       "    }\n",
       "</style>\n",
       "<table border=\"1\" class=\"dataframe\">\n",
       "  <thead>\n",
       "    <tr style=\"text-align: right;\">\n",
       "      <th></th>\n",
       "      <th>show_id</th>\n",
       "      <th>episode_count</th>\n",
       "    </tr>\n",
       "  </thead>\n",
       "  <tbody>\n",
       "    <tr>\n",
       "      <th>0</th>\n",
       "      <td>7mOT2t2HCmrwCo0822O8jT</td>\n",
       "      <td>1</td>\n",
       "    </tr>\n",
       "    <tr>\n",
       "      <th>1</th>\n",
       "      <td>4cdiD52hpZ975IKORnJoJV</td>\n",
       "      <td>4</td>\n",
       "    </tr>\n",
       "    <tr>\n",
       "      <th>2</th>\n",
       "      <td>7L2sAntb2QMfr3A4HmXOC1</td>\n",
       "      <td>1</td>\n",
       "    </tr>\n",
       "    <tr>\n",
       "      <th>3</th>\n",
       "      <td>1g77SuS39B6NoIwKCndTWY</td>\n",
       "      <td>1</td>\n",
       "    </tr>\n",
       "    <tr>\n",
       "      <th>4</th>\n",
       "      <td>6hRvE4B5zwZE2mkHp8JMrT</td>\n",
       "      <td>19</td>\n",
       "    </tr>\n",
       "  </tbody>\n",
       "</table>\n",
       "</div>"
      ],
      "text/plain": [
       "                  show_id  episode_count\n",
       "0  7mOT2t2HCmrwCo0822O8jT              1\n",
       "1  4cdiD52hpZ975IKORnJoJV              4\n",
       "2  7L2sAntb2QMfr3A4HmXOC1              1\n",
       "3  1g77SuS39B6NoIwKCndTWY              1\n",
       "4  6hRvE4B5zwZE2mkHp8JMrT             19"
      ]
     },
     "execution_count": 30,
     "metadata": {},
     "output_type": "execute_result"
    }
   ],
   "source": [
    "show_df = pd.read_csv(\"./show_episodes_count.csv\")\n",
    "show_df.head(5)"
   ]
  },
  {
   "cell_type": "code",
   "execution_count": 46,
   "id": "rational-animal",
   "metadata": {},
   "outputs": [
    {
     "data": {
      "image/png": "[encoded data removed]",
      "text/plain": [
       "<Figure size 432x288 with 1 Axes>"
      ]
     },
     "metadata": {
      "needs_background": "light"
     },
     "output_type": "display_data"
    }
   ],
   "source": [
    "plot_df = show_df[['episode_count']]\n",
    "\n",
    "fig, ax = plt.subplots(figsize=(6, 4))\n",
    "plot_df.plot.hist(bins=20, ax=ax)\n",
    "plt.xlabel(\"Episode count\", fontsize=14)\n",
    "plt.ylabel(\"# shows\", fontsize=14)\n",
    "\n",
    "plt.savefig(\"plots/show_episodes_count_hist.png\", bbox_inches='tight')\n",
    "plt.savefig(\"plots/show_episodes_count_hist.pdf\", bbox_inches='tight')"
   ]
  },
  {
   "cell_type": "markdown",
   "id": "complimentary-carnival",
   "metadata": {},
   "source": [
    "## 3. Episode duration"
   ]
  },
  {
   "cell_type": "code",
   "execution_count": 35,
   "id": "enabling-sussex",
   "metadata": {},
   "outputs": [
    {
     "name": "stdout",
     "output_type": "stream",
     "text": [
      "<class 'pandas.core.frame.DataFrame'>\n",
      "RangeIndex: 105357 entries, 0 to 105356\n",
      "Data columns (total 2 columns):\n",
      " #   Column    Non-Null Count   Dtype  \n",
      "---  ------    --------------   -----  \n",
      " 0   id        105357 non-null  object \n",
      " 1   duration  105357 non-null  float64\n",
      "dtypes: float64(1), object(1)\n",
      "memory usage: 1.6+ MB\n"
     ]
    }
   ],
   "source": [
    "episode_df = pd.read_csv('./episode_duration.csv')\n",
    "episode_df.info()"
   ]
  },
  {
   "cell_type": "code",
   "execution_count": 47,
   "id": "happy-native",
   "metadata": {},
   "outputs": [
    {
     "data": {
      "image/png": "[encoded data removed]",
      "text/plain": [
       "<Figure size 432x288 with 1 Axes>"
      ]
     },
     "metadata": {
      "needs_background": "light"
     },
     "output_type": "display_data"
    }
   ],
   "source": [
    "plot_df = episode_df[['duration']]\n",
    "\n",
    "fig, ax = plt.subplots(figsize=(6, 4))\n",
    "plot_df.plot.hist(bins=20, ax=ax)\n",
    "plt.xlabel(\"Duration (minutes)\", fontsize=14)\n",
    "plt.ylabel(\"# episodes\", fontsize=14)\n",
    "\n",
    "plt.savefig(\"plots/episode_duration_hist.png\", bbox_inches='tight')\n",
    "plt.savefig(\"plots/episode_duration_hist.pdf\", bbox_inches='tight')"
   ]
  }
 ],
 "metadata": {
  "kernelspec": {
   "display_name": "Python 3",
   "language": "python",
   "name": "python3"
  },
  "language_info": {
   "codemirror_mode": {
    "name": "ipython",
    "version": 3
   },
   "file_extension": ".py",
   "mimetype": "text/x-python",
   "name": "python",
   "nbconvert_exporter": "python",
   "pygments_lexer": "ipython3",
   "version": "3.8.5"
  }
 },
 "nbformat": 4,
 "nbformat_minor": 5
}
