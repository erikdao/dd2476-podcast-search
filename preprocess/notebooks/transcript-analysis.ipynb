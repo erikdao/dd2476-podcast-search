{
 "cells": [
  {
   "cell_type": "markdown",
   "id": "original-enough",
   "metadata": {},
   "source": [
    "# Transcript Data Analytics"
   ]
  },
  {
   "cell_type": "code",
   "execution_count": 1,
   "id": "trying-shower",
   "metadata": {},
   "outputs": [],
   "source": [
    "import os\n",
    "import json"
   ]
  },
  {
   "cell_type": "code",
   "execution_count": 2,
   "id": "banner-package",
   "metadata": {},
   "outputs": [],
   "source": [
    "ROOT_DIR = os.path.dirname(os.path.dirname(os.getcwd()))\n",
    "DATA_DIR = os.path.join(ROOT_DIR, 'data', 'podcasts-transcript', 'spotify-podcasts-2020')\n",
    "TRANSCRIPT_ROOT_DIR = os.path.join(DATA_DIR, 'podcasts-transcripts')"
   ]
  },
  {
   "cell_type": "code",
   "execution_count": 3,
   "id": "naval-steps",
   "metadata": {},
   "outputs": [],
   "source": [
    "# with open(os.path.join(DATA_DIR, 'file_list.txt'), 'r') as f:\n",
    "#     first_line = next(f)\n",
    "\n",
    "# print(first_line)\n",
    "first_line = './podcasts-transcripts/0/E/show_0E2L8zPYhApYkmWWFef7aK/1RuLO0g4ps1p6kT3NB194o.json'\n"
   ]
  },
  {
   "cell_type": "markdown",
   "id": "bottom-virginia",
   "metadata": {},
   "source": [
    "Pick a sample transcript JSON file"
   ]
  },
  {
   "cell_type": "code",
   "execution_count": 4,
   "id": "offensive-toyota",
   "metadata": {},
   "outputs": [],
   "source": [
    "SAMPLE_PATH = os.path.join(DATA_DIR, first_line[2:].replace(\"\\n\", ''))\n",
    "\n",
    "with open(SAMPLE_PATH, 'r') as f:\n",
    "    data = json.load(f)"
   ]
  },
  {
   "cell_type": "code",
   "execution_count": 5,
   "id": "essential-light",
   "metadata": {},
   "outputs": [
    {
     "data": {
      "text/plain": [
       "dict_keys(['transcript', 'confidence', 'words'])"
      ]
     },
     "execution_count": 5,
     "metadata": {},
     "output_type": "execute_result"
    }
   ],
   "source": [
    "alternatives = data['results'][0]['alternatives']\n",
    "alternatives[0].keys()"
   ]
  },
  {
   "cell_type": "markdown",
   "id": "catholic-smoke",
   "metadata": {},
   "source": [
    "## Structure of the transcript JSON file\n",
    "\n",
    "* The file is a dict contianing a single key `results`, which is a list of items\n",
    "* Each item in the list is a dictionary that has only one key `alternatives`\n",
    "* This `alternatives` key refer to a list of **alternative** objects\n",
    "* Each **alternative** is a dict whose keys include `transcript`, `confidence`, `words`\n",
    "* `transcript`: an piece of texts corrresponding to a small portion of the transcript of each episode\n",
    "* `confidence`: double\n",
    "* `words`: a list of word token objects, each object has attributes `startTime`, `endTime` and `word`"
   ]
  },
  {
   "cell_type": "markdown",
   "id": "amber-chambers",
   "metadata": {},
   "source": [
    "Structure of the transcript JSON"
   ]
  },
  {
   "cell_type": "code",
   "execution_count": 6,
   "id": "mediterranean-actress",
   "metadata": {},
   "outputs": [
    {
     "data": {
      "text/plain": [
       "17"
      ]
     },
     "execution_count": 6,
     "metadata": {},
     "output_type": "execute_result"
    }
   ],
   "source": [
    "results = data['results']\n",
    "len(results)"
   ]
  },
  {
   "cell_type": "markdown",
   "id": "republican-commissioner",
   "metadata": {},
   "source": [
    "### 1. A `result` item\n",
    "\n",
    "Each `result` item contains a single key called `alternatives` which is a list"
   ]
  },
  {
   "cell_type": "code",
   "execution_count": 11,
   "id": "warming-treat",
   "metadata": {},
   "outputs": [
    {
     "data": {
      "text/plain": [
       "dict_keys(['alternatives'])"
      ]
     },
     "execution_count": 11,
     "metadata": {},
     "output_type": "execute_result"
    }
   ],
   "source": [
    "result = results[0]\n",
    "result.keys()"
   ]
  },
  {
   "cell_type": "markdown",
   "id": "focused-occurrence",
   "metadata": {},
   "source": [
    "### 2. An `alternative` item\n",
    "\n",
    "Each `alternative` item is dictionary containing three keys\n",
    "* `transcript`: an excerpt of the transcript\n",
    "* `confidence`: confidence of the transcript (I guess it indicates how accurate the generated texts are)\n",
    "* `words`: a list of JSON objects"
   ]
  },
  {
   "cell_type": "code",
   "execution_count": 13,
   "id": "stupid-brain",
   "metadata": {},
   "outputs": [
    {
     "data": {
      "text/plain": [
       "1"
      ]
     },
     "execution_count": 13,
     "metadata": {},
     "output_type": "execute_result"
    }
   ],
   "source": [
    "alternatives = result['alternatives']\n",
    "len(alternatives)"
   ]
  },
  {
   "cell_type": "code",
   "execution_count": 15,
   "id": "oriented-national",
   "metadata": {},
   "outputs": [
    {
     "data": {
      "text/plain": [
       "dict_keys(['transcript', 'confidence', 'words'])"
      ]
     },
     "execution_count": 15,
     "metadata": {},
     "output_type": "execute_result"
    }
   ],
   "source": [
    "alternative = alternatives[0]\n",
    "alternative.keys()"
   ]
  },
  {
   "cell_type": "code",
   "execution_count": 16,
   "id": "compound-greene",
   "metadata": {},
   "outputs": [
    {
     "data": {
      "text/plain": [
       "\"Hello and welcome to the first episode of The Fan into flame podcast the official podcast of Greenwood Mennonite School athletics. My name is Tyler warfel. I teach high school math here at GMS and Coach the High School boys basketball team. I'm a big podcast listener. I listen to a lot of different types of podcasts mostly Sports podcast, but also some teaching podcast some news and current events podcasts. I like True Crime podcasts.\""
      ]
     },
     "execution_count": 16,
     "metadata": {},
     "output_type": "execute_result"
    }
   ],
   "source": [
    "alternative['transcript']"
   ]
  },
  {
   "cell_type": "code",
   "execution_count": 17,
   "id": "equipped-building",
   "metadata": {},
   "outputs": [
    {
     "data": {
      "text/plain": [
       "0.853115439414978"
      ]
     },
     "execution_count": 17,
     "metadata": {},
     "output_type": "execute_result"
    }
   ],
   "source": [
    "alternative['confidence']"
   ]
  },
  {
   "cell_type": "code",
   "execution_count": 19,
   "id": "public-watts",
   "metadata": {},
   "outputs": [
    {
     "data": {
      "text/plain": [
       "76"
      ]
     },
     "execution_count": 19,
     "metadata": {},
     "output_type": "execute_result"
    }
   ],
   "source": [
    "len(alternative['words'])"
   ]
  },
  {
   "cell_type": "markdown",
   "id": "chief-legislature",
   "metadata": {},
   "source": [
    "### 3. A `word` item\n",
    "\n",
    "Each word item is dict containing 3 required keys `startTime`, `endTime` and `word`. In some alternatives, a word can also contain the `speakerTag`"
   ]
  },
  {
   "cell_type": "code",
   "execution_count": 20,
   "id": "social-going",
   "metadata": {},
   "outputs": [
    {
     "data": {
      "text/plain": [
       "[{'startTime': '1.400s', 'endTime': '1.700s', 'word': 'Hello'},\n",
       " {'startTime': '1.700s', 'endTime': '1.800s', 'word': 'and'},\n",
       " {'startTime': '1.800s', 'endTime': '2.200s', 'word': 'welcome'},\n",
       " {'startTime': '2.200s', 'endTime': '2.400s', 'word': 'to'},\n",
       " {'startTime': '2.400s', 'endTime': '2.400s', 'word': 'the'},\n",
       " {'startTime': '2.400s', 'endTime': '2.800s', 'word': 'first'},\n",
       " {'startTime': '2.800s', 'endTime': '3.500s', 'word': 'episode'},\n",
       " {'startTime': '3.500s', 'endTime': '3.600s', 'word': 'of'},\n",
       " {'startTime': '3.600s', 'endTime': '3.800s', 'word': 'The'},\n",
       " {'startTime': '3.800s', 'endTime': '4.300s', 'word': 'Fan'}]"
      ]
     },
     "execution_count": 20,
     "metadata": {},
     "output_type": "execute_result"
    }
   ],
   "source": [
    "alternative['words'][:10]"
   ]
  },
  {
   "cell_type": "markdown",
   "id": "usual-cookbook",
   "metadata": {},
   "source": [
    "## Anomaly detection\n",
    "\n",
    "We suspect that not all **alternatives** have the above structure, let's see if there is something weird"
   ]
  },
  {
   "cell_type": "code",
   "execution_count": 21,
   "id": "suburban-maple",
   "metadata": {},
   "outputs": [
    {
     "data": {
      "text/plain": [
       "[]"
      ]
     },
     "execution_count": 21,
     "metadata": {},
     "output_type": "execute_result"
    }
   ],
   "source": [
    "multi_al_results = [res for res in results if len(res['alternatives']) != 1]\n",
    "multi_al_results"
   ]
  },
  {
   "cell_type": "code",
   "execution_count": 24,
   "id": "pressed-audience",
   "metadata": {},
   "outputs": [
    {
     "data": {
      "text/plain": [
       "17"
      ]
     },
     "execution_count": 24,
     "metadata": {},
     "output_type": "execute_result"
    }
   ],
   "source": [
    "res_alternatives = [res['alternatives'][0] for res in results]\n",
    "len(res_alternatives)"
   ]
  },
  {
   "cell_type": "code",
   "execution_count": 26,
   "id": "cloudy-enhancement",
   "metadata": {},
   "outputs": [
    {
     "name": "stdout",
     "output_type": "stream",
     "text": [
      "Alternative doesn't have `transcript` key\n",
      "No. of words:  1283\n"
     ]
    }
   ],
   "source": [
    "for alt in res_alternatives:\n",
    "    if 'transcript' not in alt.keys():\n",
    "        print(\"Alternative doesn't have `transcript` key\")\n",
    "        print(\"No. of words: \", len(alt['words']))"
   ]
  },
  {
   "cell_type": "markdown",
   "id": "express-headset",
   "metadata": {},
   "source": [
    "## Conclusion\n",
    "\n",
    "After the above exploratory analysis, we conclude that:\n",
    "* Each JSON transcript file hold a single dictionary that contains a single key `results`\n",
    "* The `results` is a list of dictionary that contains a single key `alternatives` which in tern is a list of object\n",
    "* Each `alternatives` contains a list of dictionary, dubbed `alternative`\n",
    "* There are **two** types of `alternative`:\n",
    "  - Type 1: a dictionary containing **three** keys: `transcript`, `confidence`, and `words`\n",
    "  - Type 2: a dictionary containing **only one** key `words` that hold all the word tokens in the transcript of a podcast"
   ]
  }
 ],
 "metadata": {
  "kernelspec": {
   "display_name": "Python 3",
   "language": "python",
   "name": "python3"
  },
  "language_info": {
   "codemirror_mode": {
    "name": "ipython",
    "version": 3
   },
   "file_extension": ".py",
   "mimetype": "text/x-python",
   "name": "python",
   "nbconvert_exporter": "python",
   "pygments_lexer": "ipython3",
   "version": "3.8.5"
  }
 },
 "nbformat": 4,
 "nbformat_minor": 5
}
