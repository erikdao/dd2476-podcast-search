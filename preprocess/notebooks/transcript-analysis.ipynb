{
 "cells": [
  {
   "cell_type": "markdown",
   "id": "indirect-premiere",
   "metadata": {},
   "source": [
    "# Transcript Data Analytics"
   ]
  },
  {
   "cell_type": "code",
   "execution_count": 38,
   "id": "ranging-penguin",
   "metadata": {},
   "outputs": [],
   "source": [
    "import os\n",
    "import json\n",
    "import typing"
   ]
  },
  {
   "cell_type": "code",
   "execution_count": 31,
   "id": "fifteen-sleeve",
   "metadata": {},
   "outputs": [],
   "source": [
    "ROOT_DIR = os.path.dirname(os.path.dirname(os.getcwd()))\n",
    "DATA_DIR = os.path.join(ROOT_DIR, 'data', 'podcasts-transcript', 'spotify-podcasts-2020')\n",
    "TRANSCRIPT_ROOT_DIR = os.path.join(DATA_DIR, 'podcasts-transcripts')"
   ]
  },
  {
   "cell_type": "code",
   "execution_count": 32,
   "id": "conceptual-christopher",
   "metadata": {},
   "outputs": [
    {
     "name": "stdout",
     "output_type": "stream",
     "text": [
      "./podcasts-transcripts/4/J/show_4Jocfk9mf9D876514gZHet/03R2P2RnGOOZ57hGoXAT6z.json\n",
      "\n"
     ]
    }
   ],
   "source": [
    "with open(os.path.join(DATA_DIR, 'file_list.txt'), 'r') as f:\n",
    "    first_line = next(f)\n",
    "\n",
    "print(first_line)\n",
    "# first_line = './podcasts-transcripts/4/J/show_4jJdofaAzXkKpsFJ8wGS9I/2i074A63WWvH4Vc279IQiX.json'\n"
   ]
  },
  {
   "cell_type": "markdown",
   "id": "peaceful-antibody",
   "metadata": {},
   "source": [
    "Pick a sample transcript JSON file"
   ]
  },
  {
   "cell_type": "code",
   "execution_count": 20,
   "id": "hungarian-public",
   "metadata": {},
   "outputs": [],
   "source": [
    "SAMPLE_PATH = os.path.join(DATA_DIR, first_line[2:].replace(\"\\n\", ''))\n",
    "\n",
    "with open(SAMPLE_PATH, 'r') as f:\n",
    "    data = json.load(f)`"
   ]
  },
  {
   "cell_type": "code",
   "execution_count": 21,
   "id": "unknown-canberra",
   "metadata": {},
   "outputs": [
    {
     "data": {
      "text/plain": [
       "dict_keys([])"
      ]
     },
     "execution_count": 21,
     "metadata": {},
     "output_type": "execute_result"
    }
   ],
   "source": [
    "alternatives = data['results'][0]['alternatives']\n",
    "alternatives[0].keys()"
   ]
  },
  {
   "cell_type": "markdown",
   "id": "available-latest",
   "metadata": {},
   "source": [
    "## Structure of the transcript JSON file\n",
    "\n",
    "* The file is a dict contianing a single key `results`, which is a list of items\n",
    "* Each item in the list is a dictionary that has only one key `alternatives`\n",
    "* This `alternatives` key refer to a list of **alternative** objects\n",
    "* Each **alternative** is a dict whose keys include `transcript`, `confidence`, `words`\n",
    "* `transcript`: an piece of texts corrresponding to a small portion of the transcript of each episode\n",
    "* `confidence`: double\n",
    "* `words`: a list of word token objects, each object has attributes `startTime`, `endTime` and `word`"
   ]
  },
  {
   "cell_type": "markdown",
   "id": "civil-determination",
   "metadata": {},
   "source": [
    "Structure of the transcript JSON"
   ]
  },
  {
   "cell_type": "code",
   "execution_count": 22,
   "id": "designing-beach",
   "metadata": {},
   "outputs": [
    {
     "data": {
      "text/plain": [
       "9"
      ]
     },
     "execution_count": 22,
     "metadata": {},
     "output_type": "execute_result"
    }
   ],
   "source": [
    "results = data['results']\n",
    "len(results)"
   ]
  },
  {
   "cell_type": "markdown",
   "id": "uniform-processing",
   "metadata": {},
   "source": [
    "### 1. A `result` item\n",
    "\n",
    "Each `result` item contains a single key called `alternatives` which is a list"
   ]
  },
  {
   "cell_type": "code",
   "execution_count": 23,
   "id": "assumed-rescue",
   "metadata": {},
   "outputs": [
    {
     "data": {
      "text/plain": [
       "dict_keys(['alternatives'])"
      ]
     },
     "execution_count": 23,
     "metadata": {},
     "output_type": "execute_result"
    }
   ],
   "source": [
    "result = results[0]\n",
    "result.keys()"
   ]
  },
  {
   "cell_type": "markdown",
   "id": "baking-maine",
   "metadata": {},
   "source": [
    "### 2. An `alternative` item\n",
    "\n",
    "Each `alternative` item is dictionary containing three keys\n",
    "* `transcript`: an excerpt of the transcript\n",
    "* `confidence`: confidence of the transcript (I guess it indicates how accurate the generated texts are)\n",
    "* `words`: a list of JSON objects"
   ]
  },
  {
   "cell_type": "code",
   "execution_count": 24,
   "id": "comparative-particular",
   "metadata": {},
   "outputs": [
    {
     "data": {
      "text/plain": [
       "1"
      ]
     },
     "execution_count": 24,
     "metadata": {},
     "output_type": "execute_result"
    }
   ],
   "source": [
    "alternatives = result['alternatives']\n",
    "len(alternatives)"
   ]
  },
  {
   "cell_type": "code",
   "execution_count": 25,
   "id": "resident-gallery",
   "metadata": {},
   "outputs": [
    {
     "data": {
      "text/plain": [
       "dict_keys([])"
      ]
     },
     "execution_count": 25,
     "metadata": {},
     "output_type": "execute_result"
    }
   ],
   "source": [
    "alternative = alternatives[0]\n",
    "alternative.keys()"
   ]
  },
  {
   "cell_type": "code",
   "execution_count": 16,
   "id": "conservative-bennett",
   "metadata": {},
   "outputs": [
    {
     "data": {
      "text/plain": [
       "\"Hello and welcome to the first episode of The Fan into flame podcast the official podcast of Greenwood Mennonite School athletics. My name is Tyler warfel. I teach high school math here at GMS and Coach the High School boys basketball team. I'm a big podcast listener. I listen to a lot of different types of podcasts mostly Sports podcast, but also some teaching podcast some news and current events podcasts. I like True Crime podcasts.\""
      ]
     },
     "execution_count": 16,
     "metadata": {},
     "output_type": "execute_result"
    }
   ],
   "source": [
    "alternative['transcript']"
   ]
  },
  {
   "cell_type": "code",
   "execution_count": 17,
   "id": "searching-browse",
   "metadata": {},
   "outputs": [
    {
     "data": {
      "text/plain": [
       "0.853115439414978"
      ]
     },
     "execution_count": 17,
     "metadata": {},
     "output_type": "execute_result"
    }
   ],
   "source": [
    "alternative['confidence']"
   ]
  },
  {
   "cell_type": "code",
   "execution_count": 19,
   "id": "geographic-donna",
   "metadata": {},
   "outputs": [
    {
     "data": {
      "text/plain": [
       "76"
      ]
     },
     "execution_count": 19,
     "metadata": {},
     "output_type": "execute_result"
    }
   ],
   "source": [
    "len(alternative['words'])"
   ]
  },
  {
   "cell_type": "markdown",
   "id": "removable-parts",
   "metadata": {},
   "source": [
    "### 3. A `word` item\n",
    "\n",
    "Each word item is dict containing 3 required keys `startTime`, `endTime` and `word`. In some alternatives, a word can also contain the `speakerTag`"
   ]
  },
  {
   "cell_type": "code",
   "execution_count": 20,
   "id": "first-poetry",
   "metadata": {},
   "outputs": [
    {
     "data": {
      "text/plain": [
       "[{'startTime': '1.400s', 'endTime': '1.700s', 'word': 'Hello'},\n",
       " {'startTime': '1.700s', 'endTime': '1.800s', 'word': 'and'},\n",
       " {'startTime': '1.800s', 'endTime': '2.200s', 'word': 'welcome'},\n",
       " {'startTime': '2.200s', 'endTime': '2.400s', 'word': 'to'},\n",
       " {'startTime': '2.400s', 'endTime': '2.400s', 'word': 'the'},\n",
       " {'startTime': '2.400s', 'endTime': '2.800s', 'word': 'first'},\n",
       " {'startTime': '2.800s', 'endTime': '3.500s', 'word': 'episode'},\n",
       " {'startTime': '3.500s', 'endTime': '3.600s', 'word': 'of'},\n",
       " {'startTime': '3.600s', 'endTime': '3.800s', 'word': 'The'},\n",
       " {'startTime': '3.800s', 'endTime': '4.300s', 'word': 'Fan'}]"
      ]
     },
     "execution_count": 20,
     "metadata": {},
     "output_type": "execute_result"
    }
   ],
   "source": [
    "alternative['words'][:10]"
   ]
  },
  {
   "cell_type": "markdown",
   "id": "nasty-project",
   "metadata": {},
   "source": [
    "## Anomaly detection\n",
    "\n",
    "We suspect that not all **alternatives** have the above structure, let's see if there is something weird"
   ]
  },
  {
   "cell_type": "code",
   "execution_count": 21,
   "id": "loose-italic",
   "metadata": {},
   "outputs": [
    {
     "data": {
      "text/plain": [
       "[]"
      ]
     },
     "execution_count": 21,
     "metadata": {},
     "output_type": "execute_result"
    }
   ],
   "source": [
    "multi_al_results = [res for res in results if len(res['alternatives']) != 1]\n",
    "multi_al_results"
   ]
  },
  {
   "cell_type": "code",
   "execution_count": 24,
   "id": "united-limit",
   "metadata": {},
   "outputs": [
    {
     "data": {
      "text/plain": [
       "17"
      ]
     },
     "execution_count": 24,
     "metadata": {},
     "output_type": "execute_result"
    }
   ],
   "source": [
    "res_alternatives = [res['alternatives'][0] for res in results]\n",
    "len(res_alternatives)"
   ]
  },
  {
   "cell_type": "code",
   "execution_count": 26,
   "id": "temporal-history",
   "metadata": {},
   "outputs": [
    {
     "name": "stdout",
     "output_type": "stream",
     "text": [
      "Alternative doesn't have `transcript` key\n",
      "No. of words:  1283\n"
     ]
    }
   ],
   "source": [
    "for alt in res_alternatives:\n",
    "    if 'transcript' not in alt.keys():\n",
    "        print(\"Alternative doesn't have `transcript` key\")\n",
    "        print(\"No. of words: \", len(alt['words']))"
   ]
  },
  {
   "cell_type": "markdown",
   "id": "japanese-alias",
   "metadata": {},
   "source": [
    "## Conclusion\n",
    "\n",
    "After the above exploratory analysis, we conclude that:\n",
    "* Each JSON transcript file hold a single dictionary that contains a single key `results`\n",
    "* The `results` is a list of dictionary that contains a single key `alternatives` which in tern is a list of object\n",
    "* Each `alternatives` contains a list of dictionary, dubbed `alternative`\n",
    "* There are **two** types of `alternative`:\n",
    "  - Type 1: a dictionary containing **three** keys: `transcript`, `confidence`, and `words`\n",
    "  - Type 2: a dictionary containing **only one** key `words` that hold all the word tokens in the transcript of a podcast"
   ]
  },
  {
   "cell_type": "code",
   "execution_count": 68,
   "id": "cordless-adaptation",
   "metadata": {},
   "outputs": [
    {
     "name": "stdout",
     "output_type": "stream",
     "text": [
      "Number of json file 28\n"
     ]
    }
   ],
   "source": [
    "count = 0\n",
    "# for (dirpath, dirname, filenames) in os.walk(os.path.join(DATA_DIR, 'podcasts-transcripts')):\n",
    "#     print(dirname, filenames)\n",
    "#     count += 1\n",
    "#     if count > 100:\n",
    "#         break\n",
    "json_files = []\n",
    "PODCAST_DIR = os.path.join(DATA_DIR, 'podcasts-transcripts')\n",
    "for seg_name in os.listdir(PODCAST_DIR):  # Segments of transcript dataset\n",
    "    seg_path = os.path.join(PODCAST_DIR, seg_name)\n",
    "    for alpha_subdir in os.listdir(seg_path):  # alphabet subdirectory\n",
    "        alpha_subdir_path = os.path.join(seg_path, alpha_subdir)\n",
    "        for show_dir in os.listdir(alpha_subdir_path):  # show directory\n",
    "            if show_dir != 'show_0XDDRp9nP5S3kgx413Ixg3':\n",
    "                continue\n",
    "            show_path = os.path.join(alpha_subdir_path, show_dir)\n",
    "            for fname in os.listdir(show_path):\n",
    "                if not fname.endswith(\".json\"):\n",
    "                    continue\n",
    "                json_files.append(os.path.join(seg_name, alpha_subdir, show_dir, fname))\n",
    "\n",
    "print(\"Number of json file\", len(json_files))\n",
    "\n",
    "# with open(os.path.join(DATA_DIR, \"json_file_list.txt\"), \"w\") as f:\n",
    "#     for json_file in json_files:\n",
    "#         f.write(json_file + \"\\n\")"
   ]
  },
  {
   "cell_type": "code",
   "execution_count": 70,
   "id": "minor-litigation",
   "metadata": {},
   "outputs": [
    {
     "data": {
      "text/plain": [
       "'0/X/show_0XDDRp9nP5S3kgx413Ixg3/3kgNACbCePsmsx1zSMazsZ.json'"
      ]
     },
     "execution_count": 70,
     "metadata": {},
     "output_type": "execute_result"
    }
   ],
   "source": [
    "# len(json_files)\n",
    "json_files[0]"
   ]
  },
  {
   "cell_type": "markdown",
   "id": "external-skating",
   "metadata": {},
   "source": [
    "## Analyze a sample show id=`0XDDRp9nP5S3kgx413Ixg3`"
   ]
  },
  {
   "cell_type": "code",
   "execution_count": 75,
   "id": "threatened-lesbian",
   "metadata": {},
   "outputs": [
    {
     "data": {
      "text/plain": [
       "28"
      ]
     },
     "execution_count": 75,
     "metadata": {},
     "output_type": "execute_result"
    }
   ],
   "source": [
    "show_id = '0XDDRp9nP5S3kgx413Ixg3'\n",
    "show_prefix = 'show_' + show_id\n",
    "show_dir = os.path.join(DATA_DIR, 'podcasts-transcripts/0/X/show_0XDDRp9nP5S3kgx413Ixg3')\n",
    "fnames = [fn for fn in os.listdir(show_dir) if fn.endswith(\".json\")]\n",
    "len(fnames)"
   ]
  },
  {
   "cell_type": "code",
   "execution_count": 76,
   "id": "divided-favor",
   "metadata": {},
   "outputs": [],
   "source": [
    "def read_json_file(fpath: str) -> typing.Any:\n",
    "    with open(fpath, 'r') as f:\n",
    "        data = json.load(f)\n",
    "    \n",
    "    return data\n",
    "\n",
    "def is_empty_alternative(alternatives: typing.List[typing.Any]) -> bool:\n",
    "    \"\"\"Check whether an `alternatives` list is empty\n",
    "    It's empty if it contains a single dictionary\n",
    "    \"\"\"\n",
    "    if len(alternatives) != 1:\n",
    "        return False\n",
    "    \n",
    "    return not bool(alternatives[0])"
   ]
  },
  {
   "cell_type": "markdown",
   "id": "apparent-candy",
   "metadata": {},
   "source": [
    "### Sample episode: id = `1qgr1zTevH7IOvK4My30ht`\n",
    "\n",
    "Episode 70: Make Your Opponent Hit a First Volley"
   ]
  },
  {
   "cell_type": "code",
   "execution_count": 79,
   "id": "creative-uganda",
   "metadata": {},
   "outputs": [],
   "source": [
    "episode_id = '1qgr1zTevH7IOvK4My30ht'\n",
    "episode_path = os.path.join(show_dir, episode_id + '.json')\n",
    "\n",
    "episode = read_json_file(episode_path)"
   ]
  },
  {
   "cell_type": "code",
   "execution_count": 78,
   "id": "backed-registration",
   "metadata": {},
   "outputs": [
    {
     "data": {
      "text/plain": [
       "28"
      ]
     },
     "execution_count": 78,
     "metadata": {},
     "output_type": "execute_result"
    }
   ],
   "source": [
    "sample_show_json_list = []\n",
    "\n",
    "with open(os.path.join(DATA_DIR, 'file_list.txt'), 'r') as f:\n",
    "    for line in f:\n",
    "        if show_prefix in line.strip():\n",
    "            sample_show_json_list.append(line.strip())\n",
    "len(sample_show_json_list)"
   ]
  },
  {
   "cell_type": "code",
   "execution_count": 82,
   "id": "canadian-myanmar",
   "metadata": {},
   "outputs": [
    {
     "data": {
      "text/plain": [
       "{'transcript': \"All I'm egos. Welcome to the a little gray and a lot of Grace podcast. This is your host Ari and the last six years my husband and I have built a million dollar business from our kitchen table and using social media alongside having two babies. So you can only imagine all the value that we want to give you guys. So in this podcast you'll hear from business to how to elevate yourself and become one percent better.\",\n",
       " 'confidence': 0.8736265301704407,\n",
       " 'words': [{'startTime': '4.700s', 'endTime': '4.900s', 'word': 'All'},\n",
       "  {'startTime': '4.900s', 'endTime': '5.100s', 'word': \"I'm\"},\n",
       "  {'startTime': '5.100s', 'endTime': '5.700s', 'word': 'egos.'},\n",
       "  {'startTime': '6.600s', 'endTime': '7s', 'word': 'Welcome'},\n",
       "  {'startTime': '7s', 'endTime': '7.200s', 'word': 'to'},\n",
       "  {'startTime': '7.200s', 'endTime': '7.600s', 'word': 'the'},\n",
       "  {'startTime': '7.600s', 'endTime': '7.700s', 'word': 'a'},\n",
       "  {'startTime': '7.700s', 'endTime': '8s', 'word': 'little'},\n",
       "  {'startTime': '8s', 'endTime': '8.300s', 'word': 'gray'},\n",
       "  {'startTime': '8.300s', 'endTime': '8.600s', 'word': 'and'},\n",
       "  {'startTime': '8.600s', 'endTime': '8.700s', 'word': 'a'},\n",
       "  {'startTime': '8.700s', 'endTime': '8.900s', 'word': 'lot'},\n",
       "  {'startTime': '8.900s', 'endTime': '8.900s', 'word': 'of'},\n",
       "  {'startTime': '8.900s', 'endTime': '9.200s', 'word': 'Grace'},\n",
       "  {'startTime': '9.200s', 'endTime': '10.200s', 'word': 'podcast.'},\n",
       "  {'startTime': '10.200s', 'endTime': '10.500s', 'word': 'This'},\n",
       "  {'startTime': '10.500s', 'endTime': '10.600s', 'word': 'is'},\n",
       "  {'startTime': '10.600s', 'endTime': '10.800s', 'word': 'your'},\n",
       "  {'startTime': '10.800s', 'endTime': '11.300s', 'word': 'host'},\n",
       "  {'startTime': '11.300s', 'endTime': '11.900s', 'word': 'Ari'},\n",
       "  {'startTime': '11.900s', 'endTime': '12s', 'word': 'and'},\n",
       "  {'startTime': '12s', 'endTime': '12.100s', 'word': 'the'},\n",
       "  {'startTime': '12.100s', 'endTime': '12.400s', 'word': 'last'},\n",
       "  {'startTime': '12.400s', 'endTime': '12.600s', 'word': 'six'},\n",
       "  {'startTime': '12.600s', 'endTime': '12.900s', 'word': 'years'},\n",
       "  {'startTime': '12.900s', 'endTime': '13s', 'word': 'my'},\n",
       "  {'startTime': '13s', 'endTime': '13.400s', 'word': 'husband'},\n",
       "  {'startTime': '13.400s', 'endTime': '13.600s', 'word': 'and'},\n",
       "  {'startTime': '13.600s', 'endTime': '13.700s', 'word': 'I'},\n",
       "  {'startTime': '13.700s', 'endTime': '13.900s', 'word': 'have'},\n",
       "  {'startTime': '13.900s', 'endTime': '14.200s', 'word': 'built'},\n",
       "  {'startTime': '14.200s', 'endTime': '14.300s', 'word': 'a'},\n",
       "  {'startTime': '14.300s', 'endTime': '14.700s', 'word': 'million'},\n",
       "  {'startTime': '14.700s', 'endTime': '15s', 'word': 'dollar'},\n",
       "  {'startTime': '15s', 'endTime': '15.400s', 'word': 'business'},\n",
       "  {'startTime': '15.400s', 'endTime': '15.600s', 'word': 'from'},\n",
       "  {'startTime': '15.600s', 'endTime': '15.700s', 'word': 'our'},\n",
       "  {'startTime': '15.700s', 'endTime': '16.100s', 'word': 'kitchen'},\n",
       "  {'startTime': '16.100s', 'endTime': '16.700s', 'word': 'table'},\n",
       "  {'startTime': '17.100s', 'endTime': '17.400s', 'word': 'and'},\n",
       "  {'startTime': '17.400s', 'endTime': '17.600s', 'word': 'using'},\n",
       "  {'startTime': '17.600s', 'endTime': '18s', 'word': 'social'},\n",
       "  {'startTime': '18s', 'endTime': '18.500s', 'word': 'media'},\n",
       "  {'startTime': '18.900s', 'endTime': '19.700s', 'word': 'alongside'},\n",
       "  {'startTime': '19.700s', 'endTime': '20s', 'word': 'having'},\n",
       "  {'startTime': '20s', 'endTime': '20.300s', 'word': 'two'},\n",
       "  {'startTime': '20.300s', 'endTime': '21s', 'word': 'babies.'},\n",
       "  {'startTime': '21s', 'endTime': '21.100s', 'word': 'So'},\n",
       "  {'startTime': '21.100s', 'endTime': '21.200s', 'word': 'you'},\n",
       "  {'startTime': '21.200s', 'endTime': '21.400s', 'word': 'can'},\n",
       "  {'startTime': '21.400s', 'endTime': '21.700s', 'word': 'only'},\n",
       "  {'startTime': '21.700s', 'endTime': '22.500s', 'word': 'imagine'},\n",
       "  {'startTime': '22.500s', 'endTime': '22.700s', 'word': 'all'},\n",
       "  {'startTime': '22.700s', 'endTime': '22.800s', 'word': 'the'},\n",
       "  {'startTime': '22.800s', 'endTime': '23.200s', 'word': 'value'},\n",
       "  {'startTime': '23.200s', 'endTime': '23.300s', 'word': 'that'},\n",
       "  {'startTime': '23.300s', 'endTime': '23.500s', 'word': 'we'},\n",
       "  {'startTime': '23.500s', 'endTime': '23.600s', 'word': 'want'},\n",
       "  {'startTime': '23.600s', 'endTime': '23.700s', 'word': 'to'},\n",
       "  {'startTime': '23.700s', 'endTime': '23.900s', 'word': 'give'},\n",
       "  {'startTime': '23.900s', 'endTime': '24s', 'word': 'you'},\n",
       "  {'startTime': '24s', 'endTime': '24.500s', 'word': 'guys.'},\n",
       "  {'startTime': '24.500s', 'endTime': '24.600s', 'word': 'So'},\n",
       "  {'startTime': '24.600s', 'endTime': '24.700s', 'word': 'in'},\n",
       "  {'startTime': '24.700s', 'endTime': '24.900s', 'word': 'this'},\n",
       "  {'startTime': '24.900s', 'endTime': '25.700s', 'word': 'podcast'},\n",
       "  {'startTime': '25.800s', 'endTime': '26.100s', 'word': \"you'll\"},\n",
       "  {'startTime': '26.100s', 'endTime': '26.500s', 'word': 'hear'},\n",
       "  {'startTime': '26.500s', 'endTime': '26.700s', 'word': 'from'},\n",
       "  {'startTime': '26.700s', 'endTime': '27.300s', 'word': 'business'},\n",
       "  {'startTime': '27.300s', 'endTime': '27.500s', 'word': 'to'},\n",
       "  {'startTime': '27.500s', 'endTime': '27.600s', 'word': 'how'},\n",
       "  {'startTime': '27.600s', 'endTime': '27.700s', 'word': 'to'},\n",
       "  {'startTime': '27.700s', 'endTime': '28.200s', 'word': 'elevate'},\n",
       "  {'startTime': '28.200s', 'endTime': '28.600s', 'word': 'yourself'},\n",
       "  {'startTime': '28.600s', 'endTime': '28.700s', 'word': 'and'},\n",
       "  {'startTime': '28.700s', 'endTime': '29.100s', 'word': 'become'},\n",
       "  {'startTime': '29.100s', 'endTime': '29.300s', 'word': 'one'},\n",
       "  {'startTime': '29.300s', 'endTime': '29.600s', 'word': 'percent'},\n",
       "  {'startTime': '29.600s', 'endTime': '29.800s', 'word': 'better.'}]}"
      ]
     },
     "execution_count": 82,
     "metadata": {},
     "output_type": "execute_result"
    }
   ],
   "source": [
    "episode['results'][0]['alternatives'][0]"
   ]
  },
  {
   "cell_type": "code",
   "execution_count": 83,
   "id": "structured-density",
   "metadata": {},
   "outputs": [],
   "source": [
    "episode_id = '2GW6G1xC9RT4eUDuLgZMB5'\n",
    "episode_path = os.path.join(show_dir, episode_id + '.json')\n",
    "\n",
    "episode = read_json_file(episode_path)"
   ]
  },
  {
   "cell_type": "code",
   "execution_count": 84,
   "id": "coordinated-blood",
   "metadata": {},
   "outputs": [
    {
     "data": {
      "text/plain": [
       "{'transcript': \"All I'm egos. Welcome to the a little gray and a lot of Grace podcast. This is your host Ari and the last six years my husband and I have built a million dollar business from our kitchen table and using social media alongside having two babies. So you can only imagine all the value that we want to give you guys. So in this podcast you'll hear from business to how to elevate yourself and become one percent better.\",\n",
       " 'confidence': 0.8736265897750854,\n",
       " 'words': [{'startTime': '4.700s', 'endTime': '4.900s', 'word': 'All'},\n",
       "  {'startTime': '4.900s', 'endTime': '5.100s', 'word': \"I'm\"},\n",
       "  {'startTime': '5.100s', 'endTime': '5.700s', 'word': 'egos.'},\n",
       "  {'startTime': '6.600s', 'endTime': '7s', 'word': 'Welcome'},\n",
       "  {'startTime': '7s', 'endTime': '7.200s', 'word': 'to'},\n",
       "  {'startTime': '7.200s', 'endTime': '7.600s', 'word': 'the'},\n",
       "  {'startTime': '7.600s', 'endTime': '7.700s', 'word': 'a'},\n",
       "  {'startTime': '7.700s', 'endTime': '8s', 'word': 'little'},\n",
       "  {'startTime': '8s', 'endTime': '8.300s', 'word': 'gray'},\n",
       "  {'startTime': '8.300s', 'endTime': '8.600s', 'word': 'and'},\n",
       "  {'startTime': '8.600s', 'endTime': '8.700s', 'word': 'a'},\n",
       "  {'startTime': '8.700s', 'endTime': '8.900s', 'word': 'lot'},\n",
       "  {'startTime': '8.900s', 'endTime': '8.900s', 'word': 'of'},\n",
       "  {'startTime': '8.900s', 'endTime': '9.200s', 'word': 'Grace'},\n",
       "  {'startTime': '9.200s', 'endTime': '10.200s', 'word': 'podcast.'},\n",
       "  {'startTime': '10.200s', 'endTime': '10.500s', 'word': 'This'},\n",
       "  {'startTime': '10.500s', 'endTime': '10.600s', 'word': 'is'},\n",
       "  {'startTime': '10.600s', 'endTime': '10.800s', 'word': 'your'},\n",
       "  {'startTime': '10.800s', 'endTime': '11.300s', 'word': 'host'},\n",
       "  {'startTime': '11.300s', 'endTime': '11.900s', 'word': 'Ari'},\n",
       "  {'startTime': '11.900s', 'endTime': '12s', 'word': 'and'},\n",
       "  {'startTime': '12s', 'endTime': '12.100s', 'word': 'the'},\n",
       "  {'startTime': '12.100s', 'endTime': '12.400s', 'word': 'last'},\n",
       "  {'startTime': '12.400s', 'endTime': '12.600s', 'word': 'six'},\n",
       "  {'startTime': '12.600s', 'endTime': '12.900s', 'word': 'years'},\n",
       "  {'startTime': '12.900s', 'endTime': '13s', 'word': 'my'},\n",
       "  {'startTime': '13s', 'endTime': '13.400s', 'word': 'husband'},\n",
       "  {'startTime': '13.400s', 'endTime': '13.600s', 'word': 'and'},\n",
       "  {'startTime': '13.600s', 'endTime': '13.700s', 'word': 'I'},\n",
       "  {'startTime': '13.700s', 'endTime': '13.900s', 'word': 'have'},\n",
       "  {'startTime': '13.900s', 'endTime': '14.200s', 'word': 'built'},\n",
       "  {'startTime': '14.200s', 'endTime': '14.300s', 'word': 'a'},\n",
       "  {'startTime': '14.300s', 'endTime': '14.700s', 'word': 'million'},\n",
       "  {'startTime': '14.700s', 'endTime': '15s', 'word': 'dollar'},\n",
       "  {'startTime': '15s', 'endTime': '15.400s', 'word': 'business'},\n",
       "  {'startTime': '15.400s', 'endTime': '15.600s', 'word': 'from'},\n",
       "  {'startTime': '15.600s', 'endTime': '15.700s', 'word': 'our'},\n",
       "  {'startTime': '15.700s', 'endTime': '16.100s', 'word': 'kitchen'},\n",
       "  {'startTime': '16.100s', 'endTime': '16.700s', 'word': 'table'},\n",
       "  {'startTime': '17.100s', 'endTime': '17.400s', 'word': 'and'},\n",
       "  {'startTime': '17.400s', 'endTime': '17.600s', 'word': 'using'},\n",
       "  {'startTime': '17.600s', 'endTime': '18s', 'word': 'social'},\n",
       "  {'startTime': '18s', 'endTime': '18.500s', 'word': 'media'},\n",
       "  {'startTime': '18.900s', 'endTime': '19.700s', 'word': 'alongside'},\n",
       "  {'startTime': '19.700s', 'endTime': '20s', 'word': 'having'},\n",
       "  {'startTime': '20s', 'endTime': '20.300s', 'word': 'two'},\n",
       "  {'startTime': '20.300s', 'endTime': '21s', 'word': 'babies.'},\n",
       "  {'startTime': '21s', 'endTime': '21.100s', 'word': 'So'},\n",
       "  {'startTime': '21.100s', 'endTime': '21.200s', 'word': 'you'},\n",
       "  {'startTime': '21.200s', 'endTime': '21.400s', 'word': 'can'},\n",
       "  {'startTime': '21.400s', 'endTime': '21.700s', 'word': 'only'},\n",
       "  {'startTime': '21.700s', 'endTime': '22.500s', 'word': 'imagine'},\n",
       "  {'startTime': '22.500s', 'endTime': '22.700s', 'word': 'all'},\n",
       "  {'startTime': '22.700s', 'endTime': '22.800s', 'word': 'the'},\n",
       "  {'startTime': '22.800s', 'endTime': '23.200s', 'word': 'value'},\n",
       "  {'startTime': '23.200s', 'endTime': '23.300s', 'word': 'that'},\n",
       "  {'startTime': '23.300s', 'endTime': '23.500s', 'word': 'we'},\n",
       "  {'startTime': '23.500s', 'endTime': '23.600s', 'word': 'want'},\n",
       "  {'startTime': '23.600s', 'endTime': '23.700s', 'word': 'to'},\n",
       "  {'startTime': '23.700s', 'endTime': '23.900s', 'word': 'give'},\n",
       "  {'startTime': '23.900s', 'endTime': '24s', 'word': 'you'},\n",
       "  {'startTime': '24s', 'endTime': '24.500s', 'word': 'guys.'},\n",
       "  {'startTime': '24.500s', 'endTime': '24.600s', 'word': 'So'},\n",
       "  {'startTime': '24.600s', 'endTime': '24.700s', 'word': 'in'},\n",
       "  {'startTime': '24.700s', 'endTime': '24.900s', 'word': 'this'},\n",
       "  {'startTime': '24.900s', 'endTime': '25.700s', 'word': 'podcast'},\n",
       "  {'startTime': '25.800s', 'endTime': '26.100s', 'word': \"you'll\"},\n",
       "  {'startTime': '26.100s', 'endTime': '26.500s', 'word': 'hear'},\n",
       "  {'startTime': '26.500s', 'endTime': '26.700s', 'word': 'from'},\n",
       "  {'startTime': '26.700s', 'endTime': '27.300s', 'word': 'business'},\n",
       "  {'startTime': '27.300s', 'endTime': '27.500s', 'word': 'to'},\n",
       "  {'startTime': '27.500s', 'endTime': '27.600s', 'word': 'how'},\n",
       "  {'startTime': '27.600s', 'endTime': '27.700s', 'word': 'to'},\n",
       "  {'startTime': '27.700s', 'endTime': '28.200s', 'word': 'elevate'},\n",
       "  {'startTime': '28.200s', 'endTime': '28.600s', 'word': 'yourself'},\n",
       "  {'startTime': '28.600s', 'endTime': '28.700s', 'word': 'and'},\n",
       "  {'startTime': '28.700s', 'endTime': '29.100s', 'word': 'become'},\n",
       "  {'startTime': '29.100s', 'endTime': '29.300s', 'word': 'one'},\n",
       "  {'startTime': '29.300s', 'endTime': '29.600s', 'word': 'percent'},\n",
       "  {'startTime': '29.600s', 'endTime': '29.800s', 'word': 'better.'}]}"
      ]
     },
     "execution_count": 84,
     "metadata": {},
     "output_type": "execute_result"
    }
   ],
   "source": [
    "episode['results'][0]['alternatives'][0]"
   ]
  }
 ],
 "metadata": {
  "kernelspec": {
   "display_name": "Python 3",
   "language": "python",
   "name": "python3"
  },
  "language_info": {
   "codemirror_mode": {
    "name": "ipython",
    "version": 3
   },
   "file_extension": ".py",
   "mimetype": "text/x-python",
   "name": "python",
   "nbconvert_exporter": "python",
   "pygments_lexer": "ipython3",
   "version": "3.8.5"
  }
 },
 "nbformat": 4,
 "nbformat_minor": 5
}
