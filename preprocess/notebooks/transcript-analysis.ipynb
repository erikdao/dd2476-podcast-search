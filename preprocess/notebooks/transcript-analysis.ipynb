{
 "cells": [
  {
   "cell_type": "markdown",
   "id": "legal-valuable",
   "metadata": {},
   "source": [
    "# Transcript Data Analytics"
   ]
  },
  {
   "cell_type": "code",
   "execution_count": 2,
   "id": "statistical-nightlife",
   "metadata": {},
   "outputs": [],
   "source": [
    "import os\n",
    "import json"
   ]
  },
  {
   "cell_type": "code",
   "execution_count": 3,
   "id": "cordless-characteristic",
   "metadata": {},
   "outputs": [],
   "source": [
    "ROOT_DIR = os.path.dirname(os.path.dirname(os.getcwd()))\n",
    "DATA_DIR = os.path.join(ROOT_DIR, 'data', 'podcasts-transcript', 'spotify-podcasts-2020')\n",
    "TRANSCRIPT_ROOT_DIR = os.path.join(DATA_DIR, 'podcasts-transcripts')"
   ]
  },
  {
   "cell_type": "code",
   "execution_count": 4,
   "id": "outdoor-wisconsin",
   "metadata": {},
   "outputs": [
    {
     "name": "stdout",
     "output_type": "stream",
     "text": [
      "./podcasts-transcripts/4/J/show_4Jocfk9mf9D876514gZHet/03R2P2RnGOOZ57hGoXAT6z.json\n",
      "\n"
     ]
    }
   ],
   "source": [
    "with open(os.path.join(DATA_DIR, 'file_list.txt'), 'r') as f:\n",
    "    first_line = next(f)\n",
    "\n",
    "print(first_line)"
   ]
  },
  {
   "cell_type": "markdown",
   "id": "broad-chart",
   "metadata": {},
   "source": [
    "Pick a sample transcript JSON file"
   ]
  },
  {
   "cell_type": "code",
   "execution_count": 5,
   "id": "known-headline",
   "metadata": {},
   "outputs": [],
   "source": [
    "SAMPLE_PATH = os.path.join(DATA_DIR, first_line[2:].replace(\"\\n\", ''))\n",
    "\n",
    "with open(SAMPLE_PATH, 'r') as f:\n",
    "    data = json.load(f)"
   ]
  },
  {
   "cell_type": "markdown",
   "id": "jewish-morgan",
   "metadata": {},
   "source": [
    "Structure of the transcript JSON"
   ]
  },
  {
   "cell_type": "code",
   "execution_count": 6,
   "id": "personal-mouse",
   "metadata": {},
   "outputs": [
    {
     "data": {
      "text/plain": [
       "76"
      ]
     },
     "execution_count": 6,
     "metadata": {},
     "output_type": "execute_result"
    }
   ],
   "source": [
    "data = data['results']\n",
    "len(data)"
   ]
  },
  {
   "cell_type": "code",
   "execution_count": 7,
   "id": "aboriginal-handle",
   "metadata": {},
   "outputs": [
    {
     "data": {
      "text/plain": [
       "[\"Hello, it's a hat has become China's on Narrows government's Tech rep podcast eschaton Vizio non-basic exactly Vision podcast and combines them with floor and look on them. Stefan Bushman marker that gives on his own that and channel is Pacquiao Emma the best in Tyler or English to convey soon online in these are for geeta's Hamdi to comforters internet's on inspirational dharam Vilas cancer internet and fungi, and they are not stylish for a girl.\",\n",
       " 'Help you up. Mr. Spastic on ciao.',\n",
       " \" Hopefully some concerts fighting for yoga. This is your name podcast. Let him hiding Extremes bandhan in the Forbush pressuring Shondells, you're starting to come to this internet stuff is on the team hitter and the club William al-azizia feeder anecdote. And also on the for weakness on the regiment Vedas internet and Stanley is on skip reacted on the sphere medium internet on Twisters internet Ellie.\",\n",
       " \" And that's what hotter and random team has I narva follow streets. You need to convert this internet smiling for setting the value which became one that's true in the I'd become no wonder he flew and look H Florian Greening and Stefan Bushman. Hello. What about does permit motherfucker anger-filled conceptus?\",\n",
       " \" Frameworks or Hoy De Vida this moment post. It's an event understand. There's a Fielding at run a decent grandiose minor perspective Geeta. I he designs in a pot these ends in a positive way around podcast weird adults with autism is the challenge sign danke. I'll be fiercely than for setting up to deck above us is the abbreviated is document lavash indeed Art phone wissenschaftliche are\",\n",
       " ' Adam and Goosey Goosey tribal clicking the master Fang had the and human hair combed and',\n",
       " \" Keep the silver shiny. Yeah, hidden buys it off win is intended to confirm that on. This internet is not Jewish. I'll take the hippest anti-iran those limbs guns guns fantastisch the feel guided in visit them it off convection. I'd send video Florian do version is digital native on Via was tuition digital native on digital immigrant.\",\n",
       " \" Come on now vomiting pin as a result rights and swerved right in future as a scan some internet began my are moment. It's mostly a smile doesn't mean you shouldn't make a shift to an orbiting them podcast feel one begun for digitas internet. Yeah. I have shown the only estimates 12th, right David has he has a 15 young reasons.\",\n",
       " \" It's 5,000. Yeah, so it's 5,000 5,000 5,000. I know named Ray. Okay. This is for the also begin to that's internet by idea with Lin Yuans 5000 - yeah, as a Hatter man asked internet Angeles 3000 Z and for damage. Yeah, optional relatives bad voltage. Yeah. Yeah.\",\n",
       " \" As a physician is member to come after physician has no bias and that's proofreader gravity also their unfunded. So these are cancer Usenet Eastern Andes actor special edition of us are give Learners are not next music that makes the as two titles in Zoe Hart is of these discussions grouping Usenet Gap and yeah Wilson implicitly a friendly should open Gap from\",\n",
       " \" In einem email adding interface I can test this code here touch. And yeah, so that's the reach the internet and and from side as an etiquette soccer fields fire nice Captain patient extra tricks as a gap. Is this mailbox Cena has to this not much cooler.\",\n",
       " ' Mine few doughnuts. Okay - yeah spicy side has done a bunch better. Isis does not Gap is about English kind of volume are spirits that have recently made and own business in angers in yeah, just this one. I think I just saw the for life and then Garba sympathetic does internet for done in he told you screw up.',\n",
       " \" The most exciting where I invent wouldn't be peep costume few Gates you have reached noon most student matinee tonight release. This could hear the telephone right now clutch will not survive on that marker. Yeah and manhatta about is also sang and I am stronger legislation allegation of its fight on that's was what they are talking.\",\n",
       " \" AA moment phones no and done come English. So they are these ownership version internet and web done with my name is also scientists web as a fire, but how exactly does internet I need him for the contrast actually taking us is not email also Granite which often includes our homes are so done implants late. That's why Don's all afternoon switch home. Absolutely.\",\n",
       " \" Fingers on the side other victims visor to the outside not only stylish but decided to knock off the guns and film and video website. That's what that's why if we can assign an artist Vietnam has to give in and he gets is so much excited out in Internet entitlement designer web presence. Yeah, so young that $30,000.\",\n",
       " \" That crosses all just commercial internet in anglophone to existence and thus control manipulation of the web eins Northern end that's in place. Like I just assumed your internet site not as much provide managed wouldn't resigner homepage Master digraphs are no commercial lutein with some by treatises geocities because he lived\",\n",
       " \" Beating munag khua - en japón active at night. Okay Travis banishment. They are formed based on that's fine. Yeah, but that's think that it might understand that's like so and I'm Peter hired of the boonie as Hindi I'd a nucleus and\",\n",
       " \" Dinah I ignore homepage and internet so much but even Tide Rises am back putting extra days and I looking at that's why in this is a geocities for sunglasses on the virtual statement first hidden that tiring deceased antimatter storage ottoman sultanate, which I just wanted to come to New Horizons on Yahoo was so angry so hype without a program.\",\n",
       " ' Smith know Aaron Cohn is company has also not digestion impair her eyes. I know guns guns guns go circus history that the FF n Fun City. I will vote on even if a hard use another in not and Dutch language courses FN done every year. So within big equals how many internet to come back that much as',\n",
       " \" And she had two wounds on the router and space for monthly - cannot survive on this far. Yeah, that's why it was all so Dee asked gluten free lunch betas or 12,000 fear - breaking. I feel like nappy an October company as a designer web footprint no real hype. Yeah. Okay. It's an amazing nose is a good underneath moment heaters internet with heart-stopping far.\",\n",
       " \" The entire human ended a non siamo skivvies Ensign can all start them by seed enormous while a job Messer and there was talk of Stars Hollow and everyone for the wooden Wheels on the shoulder Hangul shrekt on iron message doesn't utter internet and computer. I'm internet. Yeah canal and it's going to be a first in was perceived when finished property and Young's some asked model for the item for the item Vista.\",\n",
       " ' She needed to know that was passed candy or submitted and assigns you give us a sign the finest the ncol defying game convert rotten.com.',\n",
       " ' Jesus internet is vegetarian with Satan.',\n",
       " ' Cass yeah, yeah one.com. Yeah. My dad is the internet I found is if I scan is fund as well The Vedas far just finished after fun hat as 500 mg. Plus h da nerd is our high-end look muscular than a smooth em. Just keep that direction of them in the small units woman than 400. Most of the action was to read and do the constant article III standing requirements and on the writer it love these are the bat.',\n",
       " \" To get our time. Yeah, that's right own device not as a video on the shoulders on a canvas and wood and I just ate and ate and had tested an astute of character term and then gaps pledged loyalty contents be seen online gaming Marner to ignition. It's obvious how to start finding that our dust dust dust fancy ocean. There's a class online gaming only we hope to really easy and okay - Pete, it's humid under that's the computer game dacians.\",\n",
       " \" As one of these hoses attached Peter. Yeah and Johnson heart disease cancer file-sharing zakah. That's that's that's what our age go Sensational invisible me presenter. If our cars our Sacrament Elena and and against grows and eventually stun come on palliative. I'm Dallas homes on. Yeah computer speed Mosaic femur film a decent Keno Gap conscious yet. So vo from computer and\",\n",
       " \" Own they had a star cross. Yeah, The Artisans stoppage of the Call of Duty people from from Internet. It's from web give isn't this is this one's on can okay Gozer to gang sword and demand we are hotter. Wooden Angry. Listen this Farm we and for nerds Dominator Rome. They are feeding a Mukesh Kumar taught for demonic maneuvering thrusters.\",\n",
       " ' Kate as its managers technicians provide data, and the extreme for talented tool is to issue the constant illegal downloads on the vital not the nip stava if I think fun is good now nap stack up our enemy. I know mine is internet. I found bar Napster and a smooth many cars who yields $5,000 vanish car.',\n",
       " \" This past Monday on the technical and conceptual and will invest into gang so the exam music deepest here from little water and a wooden club and one blob is causes Facebook. Yeah as an internet phone run by me eternal consequence goes on. Yeah. Yeah as altered website and was only for Gap Woman's Place employed now stylish contemplates the child information here become hot. Yeah demands on certain issues. So Google is not help.\",\n",
       " \" As a monk on the damage shown raced through those uninitiated identification. I'm Yvonne has computer speed Giga prompted a that has for more than wrapping gaps out rap for an Indian ones that are we good - harmonics program. That's right. That's how sad cuz we're also going to dispatch breaking. I'm eating it keep this iron ROM and Demon fever.\",\n",
       " \" The tide that time thousand come on the wall mention can Lankan so demons can can contact them real life Hardin County does far for me to schools of fish breaking this internet stuff going to adult now. Yeah, not quite for website don't know yeah as of us that's for me and for fans and father hunched and that has helped me hide even shown the other therefore resolve your computer interface yet.\",\n",
       " \" First program young unfamiliar things are not assigned a complete a bit of a fire that has advanced in each really shouldn't real information. So calm as though it had to kinda Informatica Clarity in female contacts. It has an energy booster High principle. I can click and I can stand shoulder. You can see I'm ice without a computer and had they were acting I don't get why sighing to hip-hop next assizes cattle and reasoned if it\",\n",
       " ' she turned real human suffering. They are they are Me In Mind program year constantly invited blinken and dime a dozen persisters internet for Content sites, Donohue home and become certified information. I did team division fit into theater more Naturally by Jesus internet even awesome technician price and Stannis is described as Jesus information.',\n",
       " \" I told father Goonies Ativan now as a to understand team colors are spare tire and special in the store and I wish to eat them believing team and I just need time to time. I'm and Funk Brothers not we are not so into me near 20 a technician writer, but that's half a missional church for this there goes the movement in yeah and fast.\",\n",
       " \" I had a friend each other and freedom internet bandford become. Yeah, that's internet Valkyrie established buffoon, but that's what she has gotten done surprised. When mr. Fogg had to doesn't appreciate my sense of confidence read all those occasions when Tango have this arrangement of and watered on the novelty almost a mannequin and forth even a kind of Android for them to an unfortunate kind of man's red sooner. This will be pursued home to family and others even in threat.\",\n",
       " \" Of us kinda got into shiemanto. If you don't hold on to become yeah, you know home to London in drinking to tie your hottest as mr. And the slightest intention very different. Yeah is one on each per food that's missing lug nut holding company mention on the stream Moses David mentioned contacted and this is Kristin to come on. There's a theory says Fe the phone shaft enemies no comes with a small portion, but there's if we mm mmmm, no in their thousands V and mature from years in a friend and it was in\",\n",
       " \" Annette can get their data with data mine got as it is also the kind of anecdotal is being done at all. And I think that's fun the Earth in person with the drug dealers internet be forgotten as one Alice Lloyd its Vision ions out everything all the invitations very fond, Finland fancy prices the add another as funny as it has a chip in it the forgot our bananas for numeral. Do not measure mentioned the hypocrisy for the Vixen on\",\n",
       " \" I think they had some guys outside really not we have an add to each other's cancer cells from up on it and it's done. Okay. Well, that's not so bad. That's a boom about the grow of what side is beautiful information found in Hyperion solution after no incisions 5,000 feel very sanguine that internet the reached I already taking as it was did not sign I'm getting thirsty penetration women who design wouldn't get in the prefer go home.\",\n",
       " \" 20 services on get this was fulfilled for the decision Internet only dream home a reality for weakened spasm logic and learn and yeah Su Guang students who were here by rest assured in hiding something or I'm so high stands up and does Marcus's internet this for your internet idea was these are these are for reached among these car.\",\n",
       " ' The gold creepers to modifying the Alice brokerages. Yeah for by xuanzong further and the commercial decision finger narrative nail and by had initial meeting does my nervous with like toys to toggle answer its commercialization test internet minor as Facebook and so vital and vibrant. No just come to come to I just better and I even asked I need my help.',\n",
       " \" To deform find an internet presence so tiring and that's reality and I want reached in harm above us. We are all needed also other solution and I think any of the original diesel.com bubble. Yeah, not as oh that's gonna hurt you are going now to Desert Gold scrimmage tomorrow. No, that's mine. That's good for a lot of our pastors kids feel Mukesh guiding America Steven.\",\n",
       " \" I asked on my arse committee resist know as a llaves how it's highlighted treatises startup scene is even damaged is a.com plaza de Daniel relatively narrow configure plants to survive or even discovery of us or as we had some technology startup. Yeah, there's internet star tokens. I just marking and had to hide fast. So just to fill in hydrology is fairly heavy guy was\",\n",
       " \" To damage my computer to log into Skype student leaders advancement internet. So don't ya done? It's describing the story for the sort of we would consider Intelligence on. Yeah. Good morning. Good night. Did he scare? Not just told by someone operating passports on yeah as a that's see I'm not dissing asking cause an internet type shown shown matron now and after Anna inside the cab stand even about Cesar. Yeah, it isn't hi.\",\n",
       " \" Even by Lloyd naturalistic a sin against father myths about nudity in guns and Russian Cinema internet Christian harm Force here. It's nice to them the commercialization kingdom for Sofia Mia - what democratization of the here on middle underhand even Jesus internet that we work on?\",\n",
       " ' V runs',\n",
       " \" Organization. Yeah, I'll solve it right. Yeah, even the notices go few plots established in principle dimension of the date. I'm an intended strats. Yeah, so on.\",\n",
       " ' When this is all finished that version but once to design a building that yeah.',\n",
       " \" And damaged come hired. That's a good few low key here is I know songs.\",\n",
       " \" Yeah, that's we are crazy. And then this here van Hooten for by yeah guns under is a shaft of the humerus right now. Yeah, it's fighting hard my compliments. That's a good that's a good meeting at 80,000 times.\",\n",
       " \" This is an opponent. Well is capped the earth goes in Vacaville from startups in in our and my company atomization or program here in if you do Stefan courses interested of an activist opposite. In fact the Ada common Mega figured that you know, this is for our Island and a business aspect I enter and that's familiar week together Punk of our econ owner iron folic to Gordon won a Super Toyota publication of the sets and costumes are\",\n",
       " \" Abner is equal to our mechanic einfach start as you heard earlier by extreme getting the arbitrator's lines on the rails the website about not everything David me feel guilt there in the header as a single mom party fun starting in rostock other on radio. Now, that's the kind of songs dummy demons. We can stuff gets a 15 on the Savage each episode. My topic is in my computer.\",\n",
       " \" Bye-bye - our doesn't give his wonders but auditor my boys that part I need no human or a man steps some PC and haughty American is cover. So dreamweavers beta the system divided by far the argument but in modern design of your gold and silver sheet. Yeah. Well programmer FTP on Ivar Rhine content Ryan. Can I yeah and Sean Baumann fiancée student Lang Zenda behind with a heart disease.\",\n",
       " \" Little invention. That's you'll miss Parkins classes moon to Moon Target propaganda, which was cited as the istick third Master Marmont, especially easy on the democratization the screen internet's the unstructured energetic certain one extreme getting our financier is in extremely condiment Dish as Schuler problem. Looks like the website feel comfortable monitor assholes.\",\n",
       " \" As oh, that's the a Chinese and these are called creepers to move jitta come here or there is no super short short a Content area can Startin on the erratic technicians as well as trans and I had owner causes Capital One Quantum bone. Yeah. I was chewin know. It's starting that's first step is to know America has a shaft that's for Bindi. Damn it. This is teachers and how\",\n",
       " \" The songs give them what does internet. I don't know you often a fire Glacier because each of them State. Yeah, but vajrasattva versus to Tashkent. This guy doesn't listen to her and nobody's against the.com bubble have changed to which would become too young. So to really is Ian or too far back into first investor procedures as you can design the goalkeepers to move our tuition. Okay? Yeah.\",\n",
       " \" So on the end of it is a fun frog of an extreme spawned a Scott Barnes and if you loaded the mental illness conductor on the understand each for a grand because as mr. Quilty urine water, I'm thirsty for degree which gunshots business perspective in Macon Alpha roller skate and the creativity that side of Mitzvah extremely low on stock while Gita that sheís online data on this T community and going to do good organization.\",\n",
       " \" Us to all traffic book on must this is Phil income gap is abstract entity gaps this water as he will not go any farther apart. The community at conduct was in my is vote history feeling hot has five early Costner's finished. These are these are tighten this capsule guy in finow mean that's just keeps in their form garbage out in the humanities weapon ringing continues. Yeah.\",\n",
       " \" It's on tight spot size and others to higher taxes to the website indeed some in Hindi Muharram at the film's a child in zou Island. Ling-su Zaman. Yeah.\",\n",
       " \" Thing putting in there. Yeah, there's lots of swelling Kong's strategy with each other just at the end here has got a video website carpets and operated under the feelings from when I first found the links because I might hurt and whatever month brings out of his treasure hunter, whatever Cipher cool things further.\",\n",
       " \" As an inverter as slack brought a book someday even one upgrade shaft now. That's what hurts actually lot of tightness dry and very strong iron piece of machined as ice cap. That's why ownership for this machine the Iana the advocate for the work that I know context to her. Tumor is very steep.\",\n",
       " \" Night and fun web zeiten, even the sun solution and demonstration dinosaur foot. Zuma-zuma devious high-tech an internal Gap is about even know Jesus. You cannot meters of machine the Mitsubishi Griffin guy by the time the size. Also DED Eva that's due in Dynamic HTML query text and first I will close the mingle and Zoo because Mia and I\",\n",
       " \" sticky that immediately first and demonstrations. Yeah for this class. These are websites too timid as a kindly soul of machinery and for hydration on Wendy's also provide consult with other website and sign the so mm claimants diversity matters are not naturally substantially also in an algebra problem.\",\n",
       " \" I'll add our search engine optimization guns and yeah damn this to Specialists and naturally Dark Energy Harvester fine for stylish t-shirt design team iron file and dermatology data meters of machine another expansion a time and these oversized as I've shown Amit. Yeah.\",\n",
       " None,\n",
       " \" Via the Internet site in Tamil season as a stop T is the he's in 4.7 pantyhose or Davao Tim berners-lee - Devin vegetables for British car by delta T as the website co-hosted Canal Dottie. Come on get him on tour with a test online organized system. And that's masoom phone articulations. I don't another thing. I'm DT for Tyler from internet finish concentration field. Gesellschaft we did.\",\n",
       " \" Mark tile Nema that internet first Anaheim the name Allah my Skin's I'd need an ark come work mustard fianc one second Rania others body digital a feeling among the adult shebang field advantage for autoscout films one seems rather is that can pump up your honking - side. That's why they are grosser disclose fish cracking skipped wounds are consistent and Park Avenue online and on our fingers. I need the domains again.\",\n",
       " \" Space Must Be Stopped is also a thousand field as when Stan was right wasn't I David has shown the as the president's position that the eigenspace of the exact content personalization within its shockproof on MySpace here as my diagnosis based iTunes for happened. Is that side? So it doesn't end sloppy on Duncan relative Sugar YouTube as well from my to You YouTube has been and broadcaster.\",\n",
       " \" Rita can broadcast of yarn here comes in der wien this in or doesn't fit our Bashar yet. So a movie our website mid-week and fungal we chat with a the slogans the Abbotsford get me to be work as as any energy mine shaft gets women 15 yards hook skip sucked on each pin here and us to fight spent princip inside Adobe me finger to the neck. Yeah decisions to for YouTube ich bin here on this is ended soy\",\n",
       " \" As odede Internet becoming a mechanic a skit room T & V by we you fraggles will get a seat. Let's come down. We they were as always my stay at snuff. I'm sure to look in Wild eyes Ina is accurate even housing for girl a snob so to try to sell some zombies in sodium ion. Should I not know yet? I cannot match.\",\n",
       " \" Tim berners-lee naturally, I know which teacher because she stood above a shiny and also in Mecca on Facebook contest. It's not traditional John Perry Barlow. They are am highlight the Declaration of the independence of cyberspace. Yeah formerly attached on Soiree yarns on at six. Oh nine cents on this is even good now. These are Under the book. I am internet was even garnished only.\",\n",
       " \" Come outside is you don't get on down and for you know, the Mukesh characters in Fickett me to mark then even go now these are Under the rankings wiser to the and Associates King mukla card that's via mention on sign for internet - Colonel Paul VI in an unregulated and calm happen. Once we were on the road in also thousand damage resonance even out the exact nature of guns customer to find don't so to thank you.\",\n",
       " ' The IT industry Elevate Hinterlands lesson to Colonel now and really get tactically I might also Wikipedia then and Frank for a reason. Yeah. These are actually hunk of Independence gets in their Direction. It was at all. Yeah lie in Gilman their industry and invades your moon reason our supplies on to die.',\n",
       " \" Each comment or steam cyberspace employment to Hauser disguised. I treated it to contribute to each other stuff a gang Knight in single words or less. Yes. I'd missed willkommen intolerance. You have kind of overrated Revere on spasm next let's go now and that's yet not to assure. Simply pull the ad is concerned have even\",\n",
       " \" the internet began in Austin was all the others pushed woman. Yeah. Yeah finished as it gets its until cuisine in yet Sun comes Ona the fish finder. It's kind of an occasion on which I was talking internet on a skid newly about it until you are just comes to Zollinger this and I go ahead most by Facebook tears act. Yeah moment might have sent special regulations on\",\n",
       " \" You on the table? Whoa. Whoa. Whoa. Whoa. Whoa stop hype site. Okay. Okay, yes gets listed has here on the country sting example podcast of the website of his own and Minos podcast Punky e19. Another version of them Channel effect on the Titan episode 2 the same Tema releasing between the sides identified entire on Anson opportunity and a twitch of my channel. So we'll Reserve in fact foreign minister Yun, Chao.\",\n",
       " None]"
      ]
     },
     "execution_count": 7,
     "metadata": {},
     "output_type": "execute_result"
    }
   ],
   "source": [
    "alternatives = [sample['alternatives'] for sample in data]\n",
    "transcripts = [al[0].get('transcript') for al in alternatives]\n",
    "transcripts"
   ]
  },
  {
   "cell_type": "code",
   "execution_count": 8,
   "id": "numerical-webmaster",
   "metadata": {},
   "outputs": [
    {
     "data": {
      "text/plain": [
       "[{'transcript': \"Hello, it's a hat has become China's on Narrows government's Tech rep podcast eschaton Vizio non-basic exactly Vision podcast and combines them with floor and look on them. Stefan Bushman marker that gives on his own that and channel is Pacquiao Emma the best in Tyler or English to convey soon online in these are for geeta's Hamdi to comforters internet's on inspirational dharam Vilas cancer internet and fungi, and they are not stylish for a girl.\",\n",
       "  'confidence': 0.7805067300796509,\n",
       "  'words': [{'startTime': '0.900s', 'endTime': '1.300s', 'word': 'Hello,'},\n",
       "   {'startTime': '1.300s', 'endTime': '1.400s', 'word': \"it's\"},\n",
       "   {'startTime': '1.400s', 'endTime': '1.500s', 'word': 'a'},\n",
       "   {'startTime': '1.500s', 'endTime': '1.700s', 'word': 'hat'},\n",
       "   {'startTime': '1.700s', 'endTime': '1.800s', 'word': 'has'},\n",
       "   {'startTime': '1.800s', 'endTime': '2.200s', 'word': 'become'},\n",
       "   {'startTime': '2.200s', 'endTime': '2.700s', 'word': \"China's\"},\n",
       "   {'startTime': '2.700s', 'endTime': '2.800s', 'word': 'on'},\n",
       "   {'startTime': '2.800s', 'endTime': '3.200s', 'word': 'Narrows'},\n",
       "   {'startTime': '3.200s', 'endTime': '3.700s', 'word': \"government's\"},\n",
       "   {'startTime': '3.700s', 'endTime': '4s', 'word': 'Tech'},\n",
       "   {'startTime': '4s', 'endTime': '4.400s', 'word': 'rep'},\n",
       "   {'startTime': '4.400s', 'endTime': '5.100s', 'word': 'podcast'},\n",
       "   {'startTime': '5.200s', 'endTime': '6s', 'word': 'eschaton'},\n",
       "   {'startTime': '6s', 'endTime': '6.500s', 'word': 'Vizio'},\n",
       "   {'startTime': '6.500s', 'endTime': '6.900s', 'word': 'non-basic'},\n",
       "   {'startTime': '7.400s', 'endTime': '7.900s', 'word': 'exactly'},\n",
       "   {'startTime': '7.900s', 'endTime': '8.400s', 'word': 'Vision'},\n",
       "   {'startTime': '8.400s', 'endTime': '9.100s', 'word': 'podcast'},\n",
       "   {'startTime': '9.100s', 'endTime': '9.300s', 'word': 'and'},\n",
       "   {'startTime': '9.300s', 'endTime': '9.600s', 'word': 'combines'},\n",
       "   {'startTime': '9.600s', 'endTime': '10s', 'word': 'them'},\n",
       "   {'startTime': '10.300s', 'endTime': '10.500s', 'word': 'with'},\n",
       "   {'startTime': '10.500s', 'endTime': '10.800s', 'word': 'floor'},\n",
       "   {'startTime': '10.800s', 'endTime': '10.900s', 'word': 'and'},\n",
       "   {'startTime': '10.900s', 'endTime': '11.300s', 'word': 'look'},\n",
       "   {'startTime': '11.400s', 'endTime': '11.500s', 'word': 'on'},\n",
       "   {'startTime': '11.500s', 'endTime': '11.800s', 'word': 'them.'},\n",
       "   {'startTime': '11.800s', 'endTime': '12.200s', 'word': 'Stefan'},\n",
       "   {'startTime': '12.200s', 'endTime': '12.800s', 'word': 'Bushman'},\n",
       "   {'startTime': '12.800s', 'endTime': '13.200s', 'word': 'marker'},\n",
       "   {'startTime': '14s', 'endTime': '14.200s', 'word': 'that'},\n",
       "   {'startTime': '14.200s', 'endTime': '14.400s', 'word': 'gives'},\n",
       "   {'startTime': '14.400s', 'endTime': '14.700s', 'word': 'on'},\n",
       "   {'startTime': '14.700s', 'endTime': '14.800s', 'word': 'his'},\n",
       "   {'startTime': '14.800s', 'endTime': '14.900s', 'word': 'own'},\n",
       "   {'startTime': '14.900s', 'endTime': '15.100s', 'word': 'that'},\n",
       "   {'startTime': '15.100s', 'endTime': '15.200s', 'word': 'and'},\n",
       "   {'startTime': '15.200s', 'endTime': '15.700s', 'word': 'channel'},\n",
       "   {'startTime': '16s', 'endTime': '16.100s', 'word': 'is'},\n",
       "   {'startTime': '16.300s', 'endTime': '16.900s', 'word': 'Pacquiao'},\n",
       "   {'startTime': '16.900s', 'endTime': '17.400s', 'word': 'Emma'},\n",
       "   {'startTime': '17.700s', 'endTime': '17.900s', 'word': 'the'},\n",
       "   {'startTime': '17.900s', 'endTime': '18.200s', 'word': 'best'},\n",
       "   {'startTime': '18.200s', 'endTime': '18.300s', 'word': 'in'},\n",
       "   {'startTime': '18.300s', 'endTime': '18.900s', 'word': 'Tyler'},\n",
       "   {'startTime': '18.900s', 'endTime': '19.100s', 'word': 'or'},\n",
       "   {'startTime': '19.100s', 'endTime': '19.400s', 'word': 'English'},\n",
       "   {'startTime': '19.400s', 'endTime': '19.500s', 'word': 'to'},\n",
       "   {'startTime': '19.500s', 'endTime': '19.900s', 'word': 'convey'},\n",
       "   {'startTime': '19.900s', 'endTime': '20.300s', 'word': 'soon'},\n",
       "   {'startTime': '20.300s', 'endTime': '20.800s', 'word': 'online'},\n",
       "   {'startTime': '21.100s', 'endTime': '21.200s', 'word': 'in'},\n",
       "   {'startTime': '21.200s', 'endTime': '21.400s', 'word': 'these'},\n",
       "   {'startTime': '21.400s', 'endTime': '21.500s', 'word': 'are'},\n",
       "   {'startTime': '21.500s', 'endTime': '21.700s', 'word': 'for'},\n",
       "   {'startTime': '21.700s', 'endTime': '22.300s', 'word': \"geeta's\"},\n",
       "   {'startTime': '22.400s', 'endTime': '22.900s', 'word': 'Hamdi'},\n",
       "   {'startTime': '22.900s', 'endTime': '23.200s', 'word': 'to'},\n",
       "   {'startTime': '23.200s', 'endTime': '23.900s', 'word': 'comforters'},\n",
       "   {'startTime': '24s', 'endTime': '24.800s', 'word': \"internet's\"},\n",
       "   {'startTime': '25.400s', 'endTime': '25.900s', 'word': 'on'},\n",
       "   {'startTime': '25.900s', 'endTime': '26.500s', 'word': 'inspirational'},\n",
       "   {'startTime': '26.500s', 'endTime': '26.900s', 'word': 'dharam'},\n",
       "   {'startTime': '26.900s', 'endTime': '27.100s', 'word': 'Vilas'},\n",
       "   {'startTime': '27.100s', 'endTime': '27.400s', 'word': 'cancer'},\n",
       "   {'startTime': '27.400s', 'endTime': '27.800s', 'word': 'internet'},\n",
       "   {'startTime': '27.800s', 'endTime': '28.100s', 'word': 'and'},\n",
       "   {'startTime': '28.100s', 'endTime': '28.500s', 'word': 'fungi,'},\n",
       "   {'startTime': '28.500s', 'endTime': '28.600s', 'word': 'and'},\n",
       "   {'startTime': '28.600s', 'endTime': '28.800s', 'word': 'they'},\n",
       "   {'startTime': '28.800s', 'endTime': '28.800s', 'word': 'are'},\n",
       "   {'startTime': '28.800s', 'endTime': '29s', 'word': 'not'},\n",
       "   {'startTime': '29s', 'endTime': '29.600s', 'word': 'stylish'},\n",
       "   {'startTime': '29.600s', 'endTime': '29.700s', 'word': 'for'},\n",
       "   {'startTime': '29.700s', 'endTime': '29.800s', 'word': 'a'},\n",
       "   {'startTime': '29.800s', 'endTime': '30.100s', 'word': 'girl.'}]}]"
      ]
     },
     "execution_count": 8,
     "metadata": {},
     "output_type": "execute_result"
    }
   ],
   "source": [
    "alternatives[0]"
   ]
  }
 ],
 "metadata": {
  "kernelspec": {
   "display_name": "Python 3",
   "language": "python",
   "name": "python3"
  },
  "language_info": {
   "codemirror_mode": {
    "name": "ipython",
    "version": 3
   },
   "file_extension": ".py",
   "mimetype": "text/x-python",
   "name": "python",
   "nbconvert_exporter": "python",
   "pygments_lexer": "ipython3",
   "version": "3.8.5"
  }
 },
 "nbformat": 4,
 "nbformat_minor": 5
}
