{
 "cells": [
  {
   "cell_type": "markdown",
   "id": "phantom-wilson",
   "metadata": {},
   "source": [
    "# Data Verification\n",
    "\n",
    "While importing the transcript data from JSON to the database as well as elasticsearch, we've found out that there are quite many episodes that have the exact same transcripts.\n",
    "We're suspecting it's the error from the data. However, we create this notebook for verification.\n",
    "\n",
    "To that end, we perform the following steps from scratch:\n",
    "* We downloaded a fresh copy of the original dataset (i.e., `podcasts-no-audio-13GB.zip`)\n",
    "* We decompressed the `zip` file\n",
    "* There are three main `tar` files that contains the set of transcript json files\n",
    "* We created 3 separate folders `part0to2`, `part3to5`, `part6to7` and decompress those `tar` files into the corresponding folder. This is to avoid the potential overlapse of data into those `tar` files.\n",
    "\n",
    "The analysis on this notebook is conducted based on the folder structure resulted from the above steps"
   ]
  },
  {
   "cell_type": "code",
   "execution_count": 51,
   "id": "protecting-federal",
   "metadata": {},
   "outputs": [
    {
     "name": "stdout",
     "output_type": "stream",
     "text": [
      "ROOT_DIR: /home/erik/Projects/KTH/dd2476-podcast-search\n",
      "DATA_DIR: /home/erik/Projects/KTH/dd2476-podcast-search/data/podcasts-transcript\n",
      "DATA_PREFIX: spotify-podcasts-2020/podcasts-transcripts\n"
     ]
    }
   ],
   "source": [
    "import os\n",
    "import json\n",
    "import typing\n",
    "from glob import glob\n",
    "\n",
    "ROOT_DIR = os.path.dirname(os.path.dirname(os.getcwd()))\n",
    "print(f\"ROOT_DIR: {ROOT_DIR}\")\n",
    "DATA_DIR = os.path.join(ROOT_DIR, 'data', 'podcasts-transcript')\n",
    "print(f\"DATA_DIR: {DATA_DIR}\")\n",
    "DATA_PREFIX = os.path.join(\"spotify-podcasts-2020\", \"podcasts-transcripts\")\n",
    "print(f\"DATA_PREFIX: {DATA_PREFIX}\")"
   ]
  },
  {
   "cell_type": "markdown",
   "id": "sought-appliance",
   "metadata": {},
   "source": [
    "**List all files in the part folders**"
   ]
  },
  {
   "cell_type": "code",
   "execution_count": 16,
   "id": "charitable-stream",
   "metadata": {},
   "outputs": [],
   "source": [
    "part0to2_path = os.path.join(DATA_DIR, \"part0to2\", DATA_PREFIX)\n",
    "part0to2 = [y for x in os.walk(part0to2_path) for y in glob(os.path.join(x[0], '*.json'))]\n",
    "\n",
    "part3to5_path = os.path.join(DATA_DIR, \"part3to5\", DATA_PREFIX)\n",
    "part3to5 = [y for x in os.walk(part3to5_path) for y in glob(os.path.join(x[0], '*.json'))]\n",
    "\n",
    "part6to7_path = os.path.join(DATA_DIR, \"part6to7\", DATA_PREFIX)\n",
    "part6to7 = [y for x in os.walk(part6to7_path) for y in glob(os.path.join(x[0], '*.json'))]"
   ]
  },
  {
   "cell_type": "code",
   "execution_count": 17,
   "id": "perfect-drama",
   "metadata": {},
   "outputs": [
    {
     "name": "stdout",
     "output_type": "stream",
     "text": [
      "Number of files in list  105360\n",
      "Number of files in set  105360\n"
     ]
    }
   ],
   "source": [
    "file_list = part0to2 + part3to5 + part6to7\n",
    "print(\"Number of files in list \", len(file_list))\n",
    "\n",
    "file_set = set(file_list)\n",
    "print(\"Number of files in set \", len(file_set))"
   ]
  },
  {
   "cell_type": "code",
   "execution_count": 18,
   "id": "collected-mercury",
   "metadata": {},
   "outputs": [
    {
     "name": "stdout",
     "output_type": "stream",
     "text": [
      "105360 105360\n"
     ]
    }
   ],
   "source": [
    "json_files = [f.split(\"/\")[-1] for f in file_list]\n",
    "print(len(json_files), len(set(json_files)))"
   ]
  },
  {
   "cell_type": "markdown",
   "id": "focal-concern",
   "metadata": {},
   "source": [
    "### As we can see, there is no two json files with the same name, each file contains the transcript for each episode"
   ]
  },
  {
   "cell_type": "code",
   "execution_count": 52,
   "id": "improved-matrix",
   "metadata": {},
   "outputs": [
    {
     "data": {
      "text/plain": [
       "'/home/erik/Projects/KTH/dd2476-podcast-search/data/podcasts-transcript/spotify-podcasts-2020/podcasts-transcripts/4/J/show_4Jocfk9mf9D876514gZHet/03R2P2RnGOOZ57hGoXAT6z.json'"
      ]
     },
     "execution_count": 52,
     "metadata": {},
     "output_type": "execute_result"
    }
   ],
   "source": [
    "all_files = [y for x in os.walk(os.path.join(DATA_DIR, DATA_PREFIX)) for y in glob(os.path.join(x[0], '*.json'))]\n",
    "all_files[0]"
   ]
  },
  {
   "cell_type": "markdown",
   "id": "elementary-speed",
   "metadata": {},
   "source": [
    "**Inspect show id=`0XDDRp9nP5S3kgx413Ixg3`**"
   ]
  },
  {
   "cell_type": "code",
   "execution_count": 53,
   "id": "elementary-navigator",
   "metadata": {},
   "outputs": [
    {
     "name": "stdout",
     "output_type": "stream",
     "text": [
      "131\n"
     ]
    }
   ],
   "source": [
    "show_id = '4Sx3SgIAG0GheusAc6fySa'\n",
    "ep_list = [f for f in all_files if show_id in f]\n",
    "print(len(ep_list))"
   ]
  },
  {
   "cell_type": "code",
   "execution_count": 54,
   "id": "acquired-jimmy",
   "metadata": {},
   "outputs": [],
   "source": [
    "def load_episode_transcript(fpath: str) -> typing.Tuple[int, str]:\n",
    "    with open(fpath, 'r') as f:\n",
    "        data = json.load(f)\n",
    "    \n",
    "    results = data['results']\n",
    "    transcripts = []\n",
    "    for res in results:\n",
    "        alternatives = res.get('alternatives')\n",
    "        if len(alternatives) != 1:\n",
    "            print(\"More than 1 alternative found\")\n",
    "        alternative = alternatives[0]\n",
    "        if not bool(alternatives):\n",
    "            continue\n",
    "\n",
    "        if 'transcript' in alternative.keys():\n",
    "            transcripts.append(alternative.get('transcript'))\n",
    "    return len(transcripts), \"\".join(transcripts)"
   ]
  },
  {
   "cell_type": "code",
   "execution_count": 65,
   "id": "expressed-perry",
   "metadata": {},
   "outputs": [
    {
     "name": "stdout",
     "output_type": "stream",
     "text": [
      "93 100% real with Lisa CabreraYou will love podcasting on anchor. It is the greatest way to express yourself and be heard on many other platforms. So if you haven't heard about anchor it's the easiest way to make a podcast. Let me explain it's free. There's creation tools that allow you to record and edit your podcast right from your phone or computer. Anchor will distribute your Podcast for you, so it can be heard on Spotify Apple podcast and many more. You can make money from your podcasts with no minimum listenership. It's everything you need to make a podcast in one place. So download the free anchor app and go to Anchor dot f m-- to get started. America has a very sick addiction. to putting people in captivity and long prison sentences and is it an addiction that America has but other countries in the world don't seem to have this same problem. America need to give the appropriate sentences for the crime. We got way too many people in prison where the sentence does not fit the crime. So America seriously need to break its addiction. It's like a drug to this country. So let's talk about this a little deeper. We have Lamar Johnson who's been in prison for 24 years more than half of his life serving a life sentence without parole the office responsible for prosecuting him is now convinced. He is innocent and that's another thing a male America. Is a big failure when it comes down to weeding out innocent people you get an F. We see this way too much. These are not isolated incidents. These are common incidents in America. So it took 24 years to find out somebody is innocent. Then it tells me you are lousy judges lousy prosecutors lousy cops. The whole system is lousy, your jury that you pick your jurors their lousy. Everybody's lousy in the entire system. If it you can't figure out somebody is innocent and that amount of time. I'm something is wrong with you. so he was innocent, but the law the way they have it set up would not permit them to release him and you got to ask yourself who the hell sets up laws where you find out somebody's Innocent, but they got to remain Behind Bars when you do nobody sets up a system like that. except for here in America this madness a week later St. Louis judge denied the motion to reverse the conviction because she said the time to have filed had past 24 years ago when he was originally sentenced. Well that was not his fault. It is the system's fault for constantly grabbing up innocent people in throwing them behind bars. So now the judge is trying to put That on the victim in the whole thing. The judge insisted she had no Authority Under st. Louis law to Grant the motion for a new trial. So what she is saying is although we found out this person is innocent. They're going to have to remain Behind Bars. What kind of bullshit is that? The system is a failure the people running it are a bunch of failures. so this is just garbage. So Johnson's case really highlights a pressing problem in the criminal system here in America. It does not have people with morals people with common sense and the people that have a sense of urgency when it comes down to getting innocent people out of jail. You got too many people like this judge sitting on the bench that is unconcerned about the fact that innocent people like Lamar Johnson is behind bars. You know only that's animal behavior in my opinion. You have a lack of compassion for somebody that's been sitting there for 24 years for a crime that was never committed and your reaction is not even a human reaction. So Missouri is far from the only state that have these type of issues. We know innocent people are placed in jail all the time in this country. And even with DNA evidence this judge is saying well, it's too late. They have to still sit there, you know. Mmm. The whole system doesn't need reform ladies and gentlemen, this whole system needs to be dismantled and all of the people in place right now should be terminated every last one of them. And it needs to be replaced with a system that has some justice to it because this one don't and they're not concerned about that. So right now the US has 2.2 million people behind bars. Which is five hundred percent increase over the past four decades. So one and nine people in jail right now are serving life sentences and many of those life sentences ladies and gentlemen are for non-violent drug offenses. serving life sentences I want you to think of the recent rapes violent rapes and those guys got 10 years probation. But a life sentence for somebody for nonviolent drug offense. If this makes sense to somebody then I know I'm talking to an animal and not a real human. And they keep talking about reforming this bullshit. This doesn't need any reforming y'all. It doesn't need any reforming. It needs to go. So you have the Democratic candidates and people like Bernie Sanders who was for the crime Bill signed on to it, you know and you got to look at these Democrats that all agree with these crime bills and they sign on to it and it doesn't matter if it's a black politician or a white politician when it comes down to crime they all do the same. Thing it's counterproductive when you look at the whole system, you know, so there's total failure even on the political level when it comes down to incarceration. This is why if we want to significantly reduce, the number of people in this country incarcerate State legislation is needed at the federal level and in every state to allow everyone after a certain period in prison to be able to seek a reduction in sentencing. But we know prison labor has to get done so they want to hold on to these people for dear life. And it's wrong. So not only are lengthy prison sentences and effective at reducing crime, but they have devastated low-income and minority communities. and the Vera Institute Said we've lost generations of young men and women particularly young men of color too long and brutal print prison terms and I agree with that. I agree with that we have this is just another form of keeping family separated. If you do a non-violent drug crime and you get a life sentence, that means your family is now broken. There's no chance of this man going back to his family at all. No chance. and while black people Which they claim now, they've been saying this since 1860 ladies and gentlemen black people are 13 percent of the population. Now, this is from 1860 all the way up until today. I mean if you can't see through this you don't want to see through it. They first start saying we were thirteen percent of the population in 1860. And what are they saying in 2019? We are 13 percent of the population. But when you go in the census ladies and gentlemen, we never flatlined. In a year our population went up every single year. There's no way on this planet from 1860 all the way up until now. We are still sitting at 13% and they know it too. You would have to be crazy to believe that. Of the country. Okay, so 13% they account for 40 percent of people we incarcerate right now out of that 40 percent how many are innocent because there's an awful lot of innocent people sitting in American prisons that they show no concern about They show no concern if they were doing a good job and keeping the streets safe. Then you wouldn't have so many exonerations every single year and the streets in America still aren't safe. You're given these astronomical sentence and it's still not safe out in the streets of America. So what are you really accomplishing? What have you accomplished? Other than ruining somebody's life. What did you really accomplished? So today us prison spend 16 billion dollars per year on Elder Care. Sixteen billion dollars a year on eldercare is spent in these prisons every year. How was that worth it? how billions of dollars are diverted to prisons to care for the elderly who posed no real risk to Society at all. This is how desperate they are to hang on to people in prison. Given this reality. We need to pursue every option that would safely reduce the prison population one proposal by an American law Institute recommend reviewing all sentences after a person has served 15 years in prison. And to me that's too long to wait. Another example is the bill Senator Cory Booker and Senator Karen bass introduced that would provide sentence review for anyone who has served more than 10 years in prison or who is over 50 years old. Notably. Neither proposal is stricted. I'm sorry restricted by the type of offense which is critical because no combat mass incarceration. And to Echo the prison policy initiative reform to go further than the low-hanging fruit of nonviolent drug offenses. That's why you got a high elderly population. In prison today because these judges sat on the bench in these prosecutors gave life sentences to people for nonviolent drug offenses, and it's now caught up to you it caught up to you because now you got a full house of elderly people. In there that should never have served that kind of time. But see when we raised the question about why are you jailing? So many people for nonviolent drug offenses, ladies and gentlemen, there's only one reason why and the reason why is there is not all this violence going on that these people are talking about it's a head game. It's a psychological game. It's a scam. They're running on everybody. The reality is if you had all of these violent crimes going on then it should be reflected in the prison population and it's not what's reflected in the prison population in America is non violent drug offenses because that's the only damn thing they can get you on. They can't get you in there for any other reason that's why it's so much of it among this elderly population that they are now spending 16 billion dollars a year to keep incarcerated. But these folks are claiming. This is not the case and violent people are in there. You're full of shit. You're full of shit. So ladies and gentlemen, right now. There are about 34 states that are looking at reducing the prison population and their crime rates because there are too many things being labeled as crimes that really shouldn't be a major crime at all and it should not be carrying a life sentence. Like some drug offense that harmed nobody other than yourself. Now it I could see if it was a drug offense and there were weapons or there was a gun or was some kind of violent. There's no violence. The only person the only person this incarcerated inmate did was cause harm to themselves with drugs. I don't see how that carries a life sentence, but it does in America. If you said right now, let's empty out the prison's of anybody that's in there for nonviolent drug offense. The damn prisons would be practically empty. across this country policies don't need to change ladies and gentlemen the faces in charge need to change. That's the only thing that needs to change. This concludes my podcast for today. I want to thank you for stopping by each and every day to listen to my podcast and those of you that are supporters. I thank you. And if you are not a supporter, please consider becoming one you can become a supporter for a little as 99 cents a month. peace family\n"
     ]
    }
   ],
   "source": [
    "count, transcript = load_episode_transcript(ep_list[1])\n",
    "print(count, transcript)"
   ]
  },
  {
   "cell_type": "code",
   "execution_count": 66,
   "id": "stainless-clear",
   "metadata": {},
   "outputs": [
    {
     "data": {
      "text/plain": [
       "'/home/erik/Projects/KTH/dd2476-podcast-search/data/podcasts-transcript/spotify-podcasts-2020/podcasts-transcripts/4/S/show_4Sx3SgIAG0GheusAc6fySa/32v8tbletq0I9BBJ6CpZxH.json'"
      ]
     },
     "execution_count": 66,
     "metadata": {},
     "output_type": "execute_result"
    }
   ],
   "source": [
    "ep_list[1]"
   ]
  },
  {
   "cell_type": "markdown",
   "id": "brave-annex",
   "metadata": {},
   "source": [
    "**Separate part**"
   ]
  },
  {
   "cell_type": "code",
   "execution_count": 42,
   "id": "median-header",
   "metadata": {},
   "outputs": [
    {
     "data": {
      "text/plain": [
       "105360"
      ]
     },
     "execution_count": 42,
     "metadata": {},
     "output_type": "execute_result"
    }
   ],
   "source": [
    "data_path = os.path.join(DATA_DIR, DATA_PREFIX)\n",
    "json_file_list = [y for x in os.walk(data_path) for y in glob(os.path.join(x[0], '*.json'))]\n",
    "len(json_file_list)"
   ]
  },
  {
   "cell_type": "code",
   "execution_count": 43,
   "id": "former-manual",
   "metadata": {},
   "outputs": [],
   "source": [
    "json_file_list = [f.replace(data_path + \"/\", \"\") for f in json_file_list]"
   ]
  },
  {
   "cell_type": "code",
   "execution_count": 44,
   "id": "public-handy",
   "metadata": {},
   "outputs": [
    {
     "data": {
      "text/plain": [
       "'4/J/show_4Jocfk9mf9D876514gZHet/03R2P2RnGOOZ57hGoXAT6z.json'"
      ]
     },
     "execution_count": 44,
     "metadata": {},
     "output_type": "execute_result"
    }
   ],
   "source": [
    "json_file_list[0]"
   ]
  },
  {
   "cell_type": "code",
   "execution_count": 46,
   "id": "analyzed-cosmetic",
   "metadata": {},
   "outputs": [],
   "source": [
    "with open(os.path.join(DATA_DIR, \"spotify-podcasts-2020\", \"json_file_list.txt\"), \"w\") as f:\n",
    "    for jf in json_file_list:\n",
    "        f.write(jf + \"\\n\")"
   ]
  }
 ],
 "metadata": {
  "kernelspec": {
   "display_name": "Python 3",
   "language": "python",
   "name": "python3"
  },
  "language_info": {
   "codemirror_mode": {
    "name": "ipython",
    "version": 3
   },
   "file_extension": ".py",
   "mimetype": "text/x-python",
   "name": "python",
   "nbconvert_exporter": "python",
   "pygments_lexer": "ipython3",
   "version": "3.8.5"
  }
 },
 "nbformat": 4,
 "nbformat_minor": 5
}
