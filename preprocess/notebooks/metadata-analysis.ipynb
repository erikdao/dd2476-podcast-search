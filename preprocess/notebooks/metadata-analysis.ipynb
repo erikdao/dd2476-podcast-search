{
 "cells": [
  {
   "cell_type": "markdown",
   "id": "young-prompt",
   "metadata": {},
   "source": [
    "# Metadata analysis"
   ]
  },
  {
   "cell_type": "code",
   "execution_count": 1,
   "id": "continuous-remove",
   "metadata": {},
   "outputs": [],
   "source": [
    "import os\n",
    "import json\n",
    "import pandas as pd"
   ]
  },
  {
   "cell_type": "markdown",
   "id": "seven-cylinder",
   "metadata": {},
   "source": [
    "Setup paths and directories"
   ]
  },
  {
   "cell_type": "code",
   "execution_count": 7,
   "id": "harmful-creation",
   "metadata": {},
   "outputs": [],
   "source": [
    "ROOT_DIR = os.path.dirname(os.path.dirname(os.getcwd()))\n",
    "DATA_DIR = os.path.join(ROOT_DIR, 'data', 'podcasts-transcript', 'spotify-podcasts-2020')"
   ]
  },
  {
   "cell_type": "markdown",
   "id": "precious-israeli",
   "metadata": {},
   "source": [
    "Read the TSV file into a Pandas DF"
   ]
  },
  {
   "cell_type": "code",
   "execution_count": 9,
   "id": "funny-angola",
   "metadata": {},
   "outputs": [
    {
     "name": "stdout",
     "output_type": "stream",
     "text": [
      "<class 'pandas.core.frame.DataFrame'>\n",
      "RangeIndex: 105360 entries, 0 to 105359\n",
      "Data columns (total 12 columns):\n",
      " #   Column                   Non-Null Count   Dtype  \n",
      "---  ------                   --------------   -----  \n",
      " 0   show_uri                 105360 non-null  object \n",
      " 1   show_name                105360 non-null  object \n",
      " 2   show_description         105358 non-null  object \n",
      " 3   publisher                105360 non-null  object \n",
      " 4   language                 105360 non-null  object \n",
      " 5   rss_link                 105360 non-null  object \n",
      " 6   episode_uri              105360 non-null  object \n",
      " 7   episode_name             105360 non-null  object \n",
      " 8   episode_description      105155 non-null  object \n",
      " 9   duration                 105360 non-null  float64\n",
      " 10  show_filename_prefix     105360 non-null  object \n",
      " 11  episode_filename_prefix  105360 non-null  object \n",
      "dtypes: float64(1), object(11)\n",
      "memory usage: 9.6+ MB\n"
     ]
    }
   ],
   "source": [
    "df = pd.read_csv(os.path.join(DATA_DIR, 'metadata.tsv'), sep='\\t')\n",
    "df.info()"
   ]
  },
  {
   "cell_type": "code",
   "execution_count": 13,
   "id": "israeli-chemistry",
   "metadata": {},
   "outputs": [
    {
     "data": {
      "text/plain": [
       "show_uri                                 spotify:show:5U8m0Pbd5HDBhg2T8AnnGE\n",
       "show_name                                                      Behaviorbabe \n",
       "show_description           Behaviorbabe (aka Dr. Amanda Kelly) is an ethi...\n",
       "publisher                                                      Behaviorbabe \n",
       "language                                                              ['en']\n",
       "rss_link                             https://anchor.fm/s/8442d04/podcast/rss\n",
       "episode_uri                           spotify:episode:003egucoR0umViUsMV0BaT\n",
       "episode_name                           Dr. Darlene Crone-Todd on Gaslighting\n",
       "episode_description         In this episode Dr. Darlene Crone-Todd speaks...\n",
       "duration                                                           23.543867\n",
       "show_filename_prefix                             show_5U8m0Pbd5HDBhg2T8AnnGE\n",
       "episode_filename_prefix                               003egucoR0umViUsMV0BaT\n",
       "Name: 10, dtype: object"
      ]
     },
     "execution_count": 13,
     "metadata": {},
     "output_type": "execute_result"
    }
   ],
   "source": [
    "df.iloc[10]"
   ]
  }
 ],
 "metadata": {
  "kernelspec": {
   "display_name": "Python 3",
   "language": "python",
   "name": "python3"
  },
  "language_info": {
   "codemirror_mode": {
    "name": "ipython",
    "version": 3
   },
   "file_extension": ".py",
   "mimetype": "text/x-python",
   "name": "python",
   "nbconvert_exporter": "python",
   "pygments_lexer": "ipython3",
   "version": "3.8.5"
  }
 },
 "nbformat": 4,
 "nbformat_minor": 5
}
